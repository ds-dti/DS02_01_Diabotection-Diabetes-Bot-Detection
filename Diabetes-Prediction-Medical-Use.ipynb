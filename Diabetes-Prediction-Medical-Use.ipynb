{
  "nbformat": 4,
  "nbformat_minor": 0,
  "metadata": {
    "colab": {
      "name": "Diabetes_Medical",
      "provenance": [],
      "collapsed_sections": [
        "XBpuFXsXxoOW",
        "nOtGq06Yx5m-",
        "KS2PyYi8Ld2H",
        "baHMGOUbS-76",
        "smDzk-Kox9Hg"
      ],
      "toc_visible": true
    },
    "kernelspec": {
      "name": "python3",
      "display_name": "Python 3"
    },
    "accelerator": "GPU"
  },
  "cells": [
    {
      "cell_type": "markdown",
      "metadata": {
        "id": "Up2MQL0imvLy"
      },
      "source": [
        "*Data Science Course - Telkom Digital Talent Incubator*\n",
        "\n",
        "\n",
        "---\n",
        "\n",
        "\n"
      ]
    },
    {
      "cell_type": "markdown",
      "metadata": {
        "id": "COHOuO-aicds"
      },
      "source": [
        "# **Classification**"
      ]
    },
    {
      "cell_type": "markdown",
      "metadata": {
        "id": "kgluYCulxxIJ"
      },
      "source": [
        "#### ***Import Libraries***"
      ]
    },
    {
      "cell_type": "code",
      "metadata": {
        "id": "3LnjbBxXx0vz"
      },
      "source": [
        "# Import Library\n",
        "import pandas as pd\n",
        "import sklearn.metrics as metrics\n",
        "from sklearn.model_selection import GridSearchCV\n",
        "import numpy as np\n",
        "from sklearn.pipeline import make_pipeline  \n",
        "from sklearn.preprocessing import StandardScaler\n",
        "import seaborn as sns\n",
        "import matplotlib.pyplot as plt\n",
        "from sklearn.neighbors import KNeighborsClassifier\n",
        "from sklearn.model_selection import train_test_split, cross_val_score\n",
        "from sklearn import preprocessing\n",
        "from sklearn.model_selection import RandomizedSearchCV\n",
        "from sklearn.metrics import accuracy_score,recall_score\n",
        "from sklearn.ensemble import RandomForestClassifier\n",
        "from sklearn.model_selection import RandomizedSearchCV\n",
        "from sklearn.naive_bayes import GaussianNB \n",
        "from sklearn import tree\n",
        "from sklearn import metrics\n",
        "import matplotlib.pyplot as plt\n",
        "import warnings\n"
      ],
      "execution_count": null,
      "outputs": []
    },
    {
      "cell_type": "markdown",
      "metadata": {
        "id": "HntNjRUTQ_1N"
      },
      "source": [
        "#### ***Input Dataset***"
      ]
    },
    {
      "cell_type": "code",
      "metadata": {
        "id": "pa0blw2s6G7X"
      },
      "source": [
        "# Import Data to Google Colab\n",
        "df_x = pd.read_csv('https://raw.githubusercontent.com/dealtron/Project-lol/master/data/diabetes.csv', sep = ',')"
      ],
      "execution_count": null,
      "outputs": []
    },
    {
      "cell_type": "code",
      "metadata": {
        "id": "mMiecGBjRuMb",
        "colab": {
          "base_uri": "https://localhost:8080/",
          "height": 204
        },
        "outputId": "61555a73-c9fa-4342-d7d0-c13aff36f039"
      },
      "source": [
        "# Show 10 first Row\n",
        "df_x.head()"
      ],
      "execution_count": null,
      "outputs": [
        {
          "output_type": "execute_result",
          "data": {
            "text/html": [
              "<div>\n",
              "<style scoped>\n",
              "    .dataframe tbody tr th:only-of-type {\n",
              "        vertical-align: middle;\n",
              "    }\n",
              "\n",
              "    .dataframe tbody tr th {\n",
              "        vertical-align: top;\n",
              "    }\n",
              "\n",
              "    .dataframe thead th {\n",
              "        text-align: right;\n",
              "    }\n",
              "</style>\n",
              "<table border=\"1\" class=\"dataframe\">\n",
              "  <thead>\n",
              "    <tr style=\"text-align: right;\">\n",
              "      <th></th>\n",
              "      <th>Pregnancies</th>\n",
              "      <th>Glucose</th>\n",
              "      <th>BloodPressure</th>\n",
              "      <th>SkinThickness</th>\n",
              "      <th>Insulin</th>\n",
              "      <th>BMI</th>\n",
              "      <th>DiabetesPedigreeFunction</th>\n",
              "      <th>Age</th>\n",
              "      <th>Outcome</th>\n",
              "    </tr>\n",
              "  </thead>\n",
              "  <tbody>\n",
              "    <tr>\n",
              "      <th>0</th>\n",
              "      <td>6</td>\n",
              "      <td>148</td>\n",
              "      <td>72</td>\n",
              "      <td>35</td>\n",
              "      <td>0</td>\n",
              "      <td>33.6</td>\n",
              "      <td>0.627</td>\n",
              "      <td>50</td>\n",
              "      <td>1</td>\n",
              "    </tr>\n",
              "    <tr>\n",
              "      <th>1</th>\n",
              "      <td>1</td>\n",
              "      <td>85</td>\n",
              "      <td>66</td>\n",
              "      <td>29</td>\n",
              "      <td>0</td>\n",
              "      <td>26.6</td>\n",
              "      <td>0.351</td>\n",
              "      <td>31</td>\n",
              "      <td>0</td>\n",
              "    </tr>\n",
              "    <tr>\n",
              "      <th>2</th>\n",
              "      <td>8</td>\n",
              "      <td>183</td>\n",
              "      <td>64</td>\n",
              "      <td>0</td>\n",
              "      <td>0</td>\n",
              "      <td>23.3</td>\n",
              "      <td>0.672</td>\n",
              "      <td>32</td>\n",
              "      <td>1</td>\n",
              "    </tr>\n",
              "    <tr>\n",
              "      <th>3</th>\n",
              "      <td>1</td>\n",
              "      <td>89</td>\n",
              "      <td>66</td>\n",
              "      <td>23</td>\n",
              "      <td>94</td>\n",
              "      <td>28.1</td>\n",
              "      <td>0.167</td>\n",
              "      <td>21</td>\n",
              "      <td>0</td>\n",
              "    </tr>\n",
              "    <tr>\n",
              "      <th>4</th>\n",
              "      <td>0</td>\n",
              "      <td>137</td>\n",
              "      <td>40</td>\n",
              "      <td>35</td>\n",
              "      <td>168</td>\n",
              "      <td>43.1</td>\n",
              "      <td>2.288</td>\n",
              "      <td>33</td>\n",
              "      <td>1</td>\n",
              "    </tr>\n",
              "  </tbody>\n",
              "</table>\n",
              "</div>"
            ],
            "text/plain": [
              "   Pregnancies  Glucose  BloodPressure  ...  DiabetesPedigreeFunction  Age  Outcome\n",
              "0            6      148             72  ...                     0.627   50        1\n",
              "1            1       85             66  ...                     0.351   31        0\n",
              "2            8      183             64  ...                     0.672   32        1\n",
              "3            1       89             66  ...                     0.167   21        0\n",
              "4            0      137             40  ...                     2.288   33        1\n",
              "\n",
              "[5 rows x 9 columns]"
            ]
          },
          "metadata": {
            "tags": []
          },
          "execution_count": 96
        }
      ]
    },
    {
      "cell_type": "markdown",
      "metadata": {
        "id": "30qjwPUsnIXO"
      },
      "source": [
        "#### ***Data Visualization***"
      ]
    },
    {
      "cell_type": "code",
      "metadata": {
        "id": "WgcWsuGARvnM",
        "colab": {
          "base_uri": "https://localhost:8080/",
          "height": 420
        },
        "outputId": "8a575323-7b1c-489f-98db-22c7d93ad3cc"
      },
      "source": [
        "c_depo = df_x['Outcome'].value_counts()\n",
        "print(c_depo)\n",
        "sns.catplot(x='Outcome',kind=\"count\", data=df_x, height=5, aspect=1.5)\n",
        "plt.xlabel(\"Outcome\", size=14)\n",
        "plt.ylabel(\"Count\", size=14)\n",
        "plt.tight_layout()"
      ],
      "execution_count": null,
      "outputs": [
        {
          "output_type": "stream",
          "text": [
            "0    500\n",
            "1    268\n",
            "Name: Outcome, dtype: int64\n"
          ],
          "name": "stdout"
        },
        {
          "output_type": "display_data",
          "data": {
            "image/png": "[encoded data removed]",
            "text/plain": [
              "<Figure size 540x360 with 1 Axes>"
            ]
          },
          "metadata": {
            "tags": [],
            "needs_background": "light"
          }
        }
      ]
    },
    {
      "cell_type": "markdown",
      "metadata": {
        "id": "ovdislrOmxw7"
      },
      "source": [
        "#### ***Data Preprocessing***"
      ]
    },
    {
      "cell_type": "code",
      "metadata": {
        "id": "gw_YvE_njZlb"
      },
      "source": [
        "df = df_x.copy()"
      ],
      "execution_count": null,
      "outputs": []
    },
    {
      "cell_type": "code",
      "metadata": {
        "id": "jIptGFTOi5kR"
      },
      "source": [
        "df[['Glucose','BloodPressure','SkinThickness','BMI']] = df_x[['Glucose','BloodPressure','SkinThickness','BMI']].replace(0,np.NaN)"
      ],
      "execution_count": null,
      "outputs": []
    },
    {
      "cell_type": "code",
      "metadata": {
        "id": "WqMBNZiKm-KV",
        "colab": {
          "base_uri": "https://localhost:8080/"
        },
        "outputId": "dabbea65-e601-496e-b47d-484ffc903550"
      },
      "source": [
        "# Check for Missing Values\n",
        "df.isnull().sum()"
      ],
      "execution_count": null,
      "outputs": [
        {
          "output_type": "execute_result",
          "data": {
            "text/plain": [
              "Pregnancies                   0\n",
              "Glucose                       5\n",
              "BloodPressure                35\n",
              "SkinThickness               227\n",
              "Insulin                       0\n",
              "BMI                          11\n",
              "DiabetesPedigreeFunction      0\n",
              "Age                           0\n",
              "Outcome                       0\n",
              "dtype: int64"
            ]
          },
          "metadata": {
            "tags": []
          },
          "execution_count": 100
        }
      ]
    },
    {
      "cell_type": "code",
      "metadata": {
        "id": "7eiiyFGhlFrt"
      },
      "source": [
        "def median_target(var):   \r\n",
        "    temp = df[df[var].notnull()]\r\n",
        "    temp = temp[[var, 'Outcome']].groupby(['Outcome'])[[var]].median().reset_index()\r\n",
        "    return temp"
      ],
      "execution_count": null,
      "outputs": []
    },
    {
      "cell_type": "code",
      "metadata": {
        "colab": {
          "base_uri": "https://localhost:8080/",
          "height": 111
        },
        "id": "yf5-AWXmlm6e",
        "outputId": "eeb543b9-37ba-46c7-b943-a0b7c0dcd9ef"
      },
      "source": [
        "median_target('Glucose')"
      ],
      "execution_count": null,
      "outputs": [
        {
          "output_type": "execute_result",
          "data": {
            "text/html": [
              "<div>\n",
              "<style scoped>\n",
              "    .dataframe tbody tr th:only-of-type {\n",
              "        vertical-align: middle;\n",
              "    }\n",
              "\n",
              "    .dataframe tbody tr th {\n",
              "        vertical-align: top;\n",
              "    }\n",
              "\n",
              "    .dataframe thead th {\n",
              "        text-align: right;\n",
              "    }\n",
              "</style>\n",
              "<table border=\"1\" class=\"dataframe\">\n",
              "  <thead>\n",
              "    <tr style=\"text-align: right;\">\n",
              "      <th></th>\n",
              "      <th>Outcome</th>\n",
              "      <th>Glucose</th>\n",
              "    </tr>\n",
              "  </thead>\n",
              "  <tbody>\n",
              "    <tr>\n",
              "      <th>0</th>\n",
              "      <td>0</td>\n",
              "      <td>107.0</td>\n",
              "    </tr>\n",
              "    <tr>\n",
              "      <th>1</th>\n",
              "      <td>1</td>\n",
              "      <td>140.0</td>\n",
              "    </tr>\n",
              "  </tbody>\n",
              "</table>\n",
              "</div>"
            ],
            "text/plain": [
              "   Outcome  Glucose\n",
              "0        0    107.0\n",
              "1        1    140.0"
            ]
          },
          "metadata": {
            "tags": []
          },
          "execution_count": 102
        }
      ]
    },
    {
      "cell_type": "code",
      "metadata": {
        "id": "4Lo9bkwHl4CB"
      },
      "source": [
        "df.loc[(df['Outcome'] == 0 ) & (df['Glucose'].isnull()), 'Glucose'] = 107\r\n",
        "df.loc[(df['Outcome'] == 1 ) & (df['Glucose'].isnull()), 'Glucose'] = 140"
      ],
      "execution_count": null,
      "outputs": []
    },
    {
      "cell_type": "code",
      "metadata": {
        "colab": {
          "base_uri": "https://localhost:8080/",
          "height": 111
        },
        "id": "wEAWJUn9mtla",
        "outputId": "c55e1036-ca87-4198-f699-b8eeae7660ae"
      },
      "source": [
        "median_target('BloodPressure')"
      ],
      "execution_count": null,
      "outputs": [
        {
          "output_type": "execute_result",
          "data": {
            "text/html": [
              "<div>\n",
              "<style scoped>\n",
              "    .dataframe tbody tr th:only-of-type {\n",
              "        vertical-align: middle;\n",
              "    }\n",
              "\n",
              "    .dataframe tbody tr th {\n",
              "        vertical-align: top;\n",
              "    }\n",
              "\n",
              "    .dataframe thead th {\n",
              "        text-align: right;\n",
              "    }\n",
              "</style>\n",
              "<table border=\"1\" class=\"dataframe\">\n",
              "  <thead>\n",
              "    <tr style=\"text-align: right;\">\n",
              "      <th></th>\n",
              "      <th>Outcome</th>\n",
              "      <th>BloodPressure</th>\n",
              "    </tr>\n",
              "  </thead>\n",
              "  <tbody>\n",
              "    <tr>\n",
              "      <th>0</th>\n",
              "      <td>0</td>\n",
              "      <td>70.0</td>\n",
              "    </tr>\n",
              "    <tr>\n",
              "      <th>1</th>\n",
              "      <td>1</td>\n",
              "      <td>74.5</td>\n",
              "    </tr>\n",
              "  </tbody>\n",
              "</table>\n",
              "</div>"
            ],
            "text/plain": [
              "   Outcome  BloodPressure\n",
              "0        0           70.0\n",
              "1        1           74.5"
            ]
          },
          "metadata": {
            "tags": []
          },
          "execution_count": 104
        }
      ]
    },
    {
      "cell_type": "code",
      "metadata": {
        "id": "XZPynWsemvps"
      },
      "source": [
        "df.loc[(df['Outcome'] == 0 ) & (df['BloodPressure'].isnull()), 'BloodPressure'] = 70\r\n",
        "df.loc[(df['Outcome'] == 1 ) & (df['BloodPressure'].isnull()), 'BloodPressure'] = 74.5"
      ],
      "execution_count": null,
      "outputs": []
    },
    {
      "cell_type": "code",
      "metadata": {
        "colab": {
          "base_uri": "https://localhost:8080/",
          "height": 111
        },
        "id": "Ep06kQFvl9RV",
        "outputId": "bdf18a2c-a27a-453f-867f-6492fb5b5cd2"
      },
      "source": [
        "median_target('SkinThickness')"
      ],
      "execution_count": null,
      "outputs": [
        {
          "output_type": "execute_result",
          "data": {
            "text/html": [
              "<div>\n",
              "<style scoped>\n",
              "    .dataframe tbody tr th:only-of-type {\n",
              "        vertical-align: middle;\n",
              "    }\n",
              "\n",
              "    .dataframe tbody tr th {\n",
              "        vertical-align: top;\n",
              "    }\n",
              "\n",
              "    .dataframe thead th {\n",
              "        text-align: right;\n",
              "    }\n",
              "</style>\n",
              "<table border=\"1\" class=\"dataframe\">\n",
              "  <thead>\n",
              "    <tr style=\"text-align: right;\">\n",
              "      <th></th>\n",
              "      <th>Outcome</th>\n",
              "      <th>SkinThickness</th>\n",
              "    </tr>\n",
              "  </thead>\n",
              "  <tbody>\n",
              "    <tr>\n",
              "      <th>0</th>\n",
              "      <td>0</td>\n",
              "      <td>27.0</td>\n",
              "    </tr>\n",
              "    <tr>\n",
              "      <th>1</th>\n",
              "      <td>1</td>\n",
              "      <td>32.0</td>\n",
              "    </tr>\n",
              "  </tbody>\n",
              "</table>\n",
              "</div>"
            ],
            "text/plain": [
              "   Outcome  SkinThickness\n",
              "0        0           27.0\n",
              "1        1           32.0"
            ]
          },
          "metadata": {
            "tags": []
          },
          "execution_count": 106
        }
      ]
    },
    {
      "cell_type": "code",
      "metadata": {
        "id": "GqVMC88XmEQp"
      },
      "source": [
        "df.loc[(df['Outcome'] == 0 ) & (df['SkinThickness'].isnull()), 'SkinThickness'] = 27\r\n",
        "df.loc[(df['Outcome'] == 1 ) & (df['SkinThickness'].isnull()), 'SkinThickness'] = 32"
      ],
      "execution_count": null,
      "outputs": []
    },
    {
      "cell_type": "code",
      "metadata": {
        "colab": {
          "base_uri": "https://localhost:8080/",
          "height": 111
        },
        "id": "BCnb3bFFmPqi",
        "outputId": "5356dbdb-4db3-45a3-d871-2e16308b0219"
      },
      "source": [
        "median_target('BMI')"
      ],
      "execution_count": null,
      "outputs": [
        {
          "output_type": "execute_result",
          "data": {
            "text/html": [
              "<div>\n",
              "<style scoped>\n",
              "    .dataframe tbody tr th:only-of-type {\n",
              "        vertical-align: middle;\n",
              "    }\n",
              "\n",
              "    .dataframe tbody tr th {\n",
              "        vertical-align: top;\n",
              "    }\n",
              "\n",
              "    .dataframe thead th {\n",
              "        text-align: right;\n",
              "    }\n",
              "</style>\n",
              "<table border=\"1\" class=\"dataframe\">\n",
              "  <thead>\n",
              "    <tr style=\"text-align: right;\">\n",
              "      <th></th>\n",
              "      <th>Outcome</th>\n",
              "      <th>BMI</th>\n",
              "    </tr>\n",
              "  </thead>\n",
              "  <tbody>\n",
              "    <tr>\n",
              "      <th>0</th>\n",
              "      <td>0</td>\n",
              "      <td>30.1</td>\n",
              "    </tr>\n",
              "    <tr>\n",
              "      <th>1</th>\n",
              "      <td>1</td>\n",
              "      <td>34.3</td>\n",
              "    </tr>\n",
              "  </tbody>\n",
              "</table>\n",
              "</div>"
            ],
            "text/plain": [
              "   Outcome   BMI\n",
              "0        0  30.1\n",
              "1        1  34.3"
            ]
          },
          "metadata": {
            "tags": []
          },
          "execution_count": 108
        }
      ]
    },
    {
      "cell_type": "code",
      "metadata": {
        "id": "4DU0PpyqmZxJ"
      },
      "source": [
        "df.loc[(df['Outcome'] == 0 ) & (df['BMI'].isnull()), 'BMI'] = 30.1\r\n",
        "df.loc[(df['Outcome'] == 1 ) & (df['BMI'].isnull()), 'BMI'] = 34.3"
      ],
      "execution_count": null,
      "outputs": []
    },
    {
      "cell_type": "code",
      "metadata": {
        "colab": {
          "base_uri": "https://localhost:8080/"
        },
        "id": "2Lrd951AnLrG",
        "outputId": "1769ab64-3f99-421a-9d37-36d8387afad1"
      },
      "source": [
        "# Check for Missing Values\r\n",
        "df.isnull().sum()"
      ],
      "execution_count": null,
      "outputs": [
        {
          "output_type": "execute_result",
          "data": {
            "text/plain": [
              "Pregnancies                 0\n",
              "Glucose                     0\n",
              "BloodPressure               0\n",
              "SkinThickness               0\n",
              "Insulin                     0\n",
              "BMI                         0\n",
              "DiabetesPedigreeFunction    0\n",
              "Age                         0\n",
              "Outcome                     0\n",
              "dtype: int64"
            ]
          },
          "metadata": {
            "tags": []
          },
          "execution_count": 110
        }
      ]
    },
    {
      "cell_type": "markdown",
      "metadata": {
        "id": "8je78WydWjbV"
      },
      "source": [
        "#### ***Correlation Matrix***"
      ]
    },
    {
      "cell_type": "code",
      "metadata": {
        "colab": {
          "base_uri": "https://localhost:8080/",
          "height": 1000
        },
        "id": "kSESklfhWmK4",
        "outputId": "dcd6967c-4dc3-4540-aa0a-0a9a72491a9c"
      },
      "source": [
        "corr_matrix = df_x.corr()\n",
        "fig, ax = plt.subplots(figsize=(15, 15))\n",
        "ax = sns.heatmap(corr_matrix,\n",
        "                 annot = True,\n",
        "                 linewidths = 0.5,\n",
        "                 fmt = \".2f\",\n",
        "                 cmap = \"YlGnBu\");\n",
        "bottom, top = ax.get_ylim()\n",
        "ax.set_ylim(bottom + 0.5, top - 0.5)"
      ],
      "execution_count": null,
      "outputs": [
        {
          "output_type": "execute_result",
          "data": {
            "text/plain": [
              "(9.5, -0.5)"
            ]
          },
          "metadata": {
            "tags": []
          },
          "execution_count": 111
        },
        {
          "output_type": "display_data",
          "data": {
            "image/png": "[encoded data removed]",
            "text/plain": [
              "<Figure size 1080x1080 with 2 Axes>"
            ]
          },
          "metadata": {
            "tags": [],
            "needs_background": "light"
          }
        }
      ]
    },
    {
      "cell_type": "markdown",
      "metadata": {
        "id": "WtGKwoaCpeAs"
      },
      "source": [
        "#### ***Set Feature and Target***"
      ]
    },
    {
      "cell_type": "code",
      "metadata": {
        "id": "awfUHmfrph6W",
        "colab": {
          "base_uri": "https://localhost:8080/"
        },
        "outputId": "b8b59409-c237-45f5-bcb7-df9119b77860"
      },
      "source": [
        "# Select Features\n",
        "X_pp = df.drop(['Outcome','Insulin','DiabetesPedigreeFunction'], axis=1)\n",
        "X = preprocessing.scale(X_pp)\n",
        "scaler = preprocessing.StandardScaler().fit(X_pp)\n",
        "scaler"
      ],
      "execution_count": null,
      "outputs": [
        {
          "output_type": "execute_result",
          "data": {
            "text/plain": [
              "StandardScaler(copy=True, with_mean=True, with_std=True)"
            ]
          },
          "metadata": {
            "tags": []
          },
          "execution_count": 112
        }
      ]
    },
    {
      "cell_type": "code",
      "metadata": {
        "id": "bu1COTYDqVoC",
        "colab": {
          "base_uri": "https://localhost:8080/"
        },
        "outputId": "c733e140-6703-4e1c-aea9-cb2270d53bbb"
      },
      "source": [
        "# Select Target\n",
        "y = df['Outcome']\n",
        "y"
      ],
      "execution_count": null,
      "outputs": [
        {
          "output_type": "execute_result",
          "data": {
            "text/plain": [
              "0      1\n",
              "1      0\n",
              "2      1\n",
              "3      0\n",
              "4      1\n",
              "      ..\n",
              "763    0\n",
              "764    0\n",
              "765    0\n",
              "766    1\n",
              "767    0\n",
              "Name: Outcome, Length: 768, dtype: int64"
            ]
          },
          "metadata": {
            "tags": []
          },
          "execution_count": 113
        }
      ]
    },
    {
      "cell_type": "markdown",
      "metadata": {
        "id": "jKGonYC7qhGA"
      },
      "source": [
        "#### ***Set Training and Testing Data***"
      ]
    },
    {
      "cell_type": "code",
      "metadata": {
        "id": "td_W4NOBqpCI",
        "colab": {
          "base_uri": "https://localhost:8080/"
        },
        "outputId": "126adcf9-82b1-4f93-d473-86354daedc7d"
      },
      "source": [
        "# Set Training and Testing Data (70:30)\n",
        "X_train, X_test, y_train, y_test  = train_test_split(X, y, shuffle = True, test_size=0.2, random_state=0,stratify=y)\n",
        "\n",
        "# Show the Training and Testing Data\n",
        "print(X_train.shape)\n",
        "print(X_test.shape)\n",
        "print(y_train.shape)\n",
        "print(y_test.shape)"
      ],
      "execution_count": null,
      "outputs": [
        {
          "output_type": "stream",
          "text": [
            "(614, 6)\n",
            "(154, 6)\n",
            "(614,)\n",
            "(154,)\n"
          ],
          "name": "stdout"
        }
      ]
    },
    {
      "cell_type": "markdown",
      "metadata": {
        "id": "RPbwMghV6K_x"
      },
      "source": [
        "# **Model**"
      ]
    },
    {
      "cell_type": "markdown",
      "metadata": {
        "id": "baHMGOUbS-76"
      },
      "source": [
        "#### ***GridSearchCV (Random Forest)***"
      ]
    },
    {
      "cell_type": "code",
      "metadata": {
        "id": "VSWLmIB1TIqH",
        "colab": {
          "base_uri": "https://localhost:8080/"
        },
        "outputId": "1893ecf4-d199-478c-bfa1-854e0450a48a"
      },
      "source": [
        "rfo = RandomForestClassifier()\n",
        "n_estimators = [100, 300, 400, 500, 800, 1200]\n",
        "max_depth = [5, 8, 15, 25, 30]\n",
        "min_samples_split = [2, 5, 10, 15, 100]\n",
        "min_samples_leaf = [1, 2, 5, 10]\n",
        "\n",
        "hyperF = dict(n_estimators = n_estimators, max_depth = max_depth, \n",
        "              min_samples_split = min_samples_split, \n",
        "              min_samples_leaf = min_samples_leaf)\n",
        "\n",
        "gridF = GridSearchCV(rfo, hyperF, scoring='roc_auc',\n",
        "                     cv = 5, verbose = 1, \n",
        "                     n_jobs = -1)\n",
        "\n",
        "bestF = gridF.fit(X, y)"
      ],
      "execution_count": null,
      "outputs": [
        {
          "output_type": "stream",
          "text": [
            "Fitting 5 folds for each of 600 candidates, totalling 3000 fits\n"
          ],
          "name": "stdout"
        },
        {
          "output_type": "stream",
          "text": [
            "[Parallel(n_jobs=-1)]: Using backend LokyBackend with 2 concurrent workers.\n",
            "[Parallel(n_jobs=-1)]: Done  46 tasks      | elapsed:   26.4s\n",
            "[Parallel(n_jobs=-1)]: Done 196 tasks      | elapsed:  2.0min\n",
            "[Parallel(n_jobs=-1)]: Done 446 tasks      | elapsed:  4.7min\n",
            "[Parallel(n_jobs=-1)]: Done 796 tasks      | elapsed:  8.5min\n",
            "[Parallel(n_jobs=-1)]: Done 1246 tasks      | elapsed: 13.3min\n",
            "[Parallel(n_jobs=-1)]: Done 1796 tasks      | elapsed: 19.3min\n",
            "[Parallel(n_jobs=-1)]: Done 2446 tasks      | elapsed: 26.3min\n",
            "[Parallel(n_jobs=-1)]: Done 3000 out of 3000 | elapsed: 32.3min finished\n"
          ],
          "name": "stderr"
        }
      ]
    },
    {
      "cell_type": "code",
      "metadata": {
        "id": "LLJz5bfNUTQf",
        "colab": {
          "base_uri": "https://localhost:8080/"
        },
        "outputId": "6c142492-e157-4ca9-efaa-a001e90c0046"
      },
      "source": [
        "print(\" Results from Grid Search \" )\r\n",
        "print(\"\\n The best estimator across ALL searched params:\\n\",bestF.best_estimator_)\r\n",
        "print(\"\\n The best score across ALL searched params:\\n\",bestF.best_score_)\r\n",
        "print(\"\\n The best parameters across ALL searched params:\\n\",bestF.best_params_)"
      ],
      "execution_count": null,
      "outputs": [
        {
          "output_type": "stream",
          "text": [
            " Results from Grid Search \n",
            "\n",
            " The best estimator across ALL searched params:\n",
            " RandomForestClassifier(bootstrap=True, ccp_alpha=0.0, class_weight=None,\n",
            "                       criterion='gini', max_depth=8, max_features='auto',\n",
            "                       max_leaf_nodes=None, max_samples=None,\n",
            "                       min_impurity_decrease=0.0, min_impurity_split=None,\n",
            "                       min_samples_leaf=10, min_samples_split=15,\n",
            "                       min_weight_fraction_leaf=0.0, n_estimators=100,\n",
            "                       n_jobs=None, oob_score=False, random_state=None,\n",
            "                       verbose=0, warm_start=False)\n",
            "\n",
            " The best score across ALL searched params:\n",
            " 0.8899797344514326\n",
            "\n",
            " The best parameters across ALL searched params:\n",
            " {'max_depth': 8, 'min_samples_leaf': 10, 'min_samples_split': 15, 'n_estimators': 100}\n"
          ],
          "name": "stdout"
        }
      ]
    },
    {
      "cell_type": "markdown",
      "metadata": {
        "id": "bfb7uc3EQJ9k"
      },
      "source": [
        "#### ***GridSearchCV (KNN)***"
      ]
    },
    {
      "cell_type": "code",
      "metadata": {
        "colab": {
          "base_uri": "https://localhost:8080/"
        },
        "id": "x-lwqxspOJDp",
        "outputId": "ae53c95b-d761-4979-8159-6590606be296"
      },
      "source": [
        "knn = KNeighborsClassifier()\n",
        "leaf_size = list(range(1,50))\n",
        "n_neighbors = list(range(1,30))\n",
        "p=[1,2]\n",
        "\n",
        "hyperK = dict(leaf_size=leaf_size, n_neighbors=n_neighbors, p=p)\n",
        "\n",
        "gridK = GridSearchCV(knn, hyperK, scoring='roc_auc', \n",
        "                     cv = 5, verbose = 1, \n",
        "                     n_jobs = -1,)\n",
        "\n",
        "bestK = gridK.fit(X_train, y_train)"
      ],
      "execution_count": null,
      "outputs": [
        {
          "output_type": "stream",
          "text": [
            "[Parallel(n_jobs=-1)]: Using backend LokyBackend with 2 concurrent workers.\n"
          ],
          "name": "stderr"
        },
        {
          "output_type": "stream",
          "text": [
            "Fitting 5 folds for each of 2842 candidates, totalling 14210 fits\n"
          ],
          "name": "stdout"
        },
        {
          "output_type": "stream",
          "text": [
            "[Parallel(n_jobs=-1)]: Done 956 tasks      | elapsed:    4.0s\n",
            "[Parallel(n_jobs=-1)]: Done 5756 tasks      | elapsed:   18.7s\n",
            "[Parallel(n_jobs=-1)]: Done 13756 tasks      | elapsed:   40.9s\n",
            "[Parallel(n_jobs=-1)]: Done 14210 out of 14210 | elapsed:   42.1s finished\n"
          ],
          "name": "stderr"
        }
      ]
    },
    {
      "cell_type": "code",
      "metadata": {
        "id": "ydhBSY_ndzVS",
        "colab": {
          "base_uri": "https://localhost:8080/"
        },
        "outputId": "408e2705-4040-4040-9bb9-2772a5b2ceb5"
      },
      "source": [
        "print(\" Results from Grid Search \" )\n",
        "print(\"\\n The best estimator across ALL searched params:\\n\",bestK.best_estimator_)\n",
        "print(\"\\n The best score across ALL searched params:\\n\",bestK.best_score_)\n",
        "print(\"\\n The best parameters across ALL searched params:\\n\",bestK.best_params_)"
      ],
      "execution_count": null,
      "outputs": [
        {
          "output_type": "stream",
          "text": [
            " Results from Grid Search \n",
            "\n",
            " The best estimator across ALL searched params:\n",
            " KNeighborsClassifier(algorithm='auto', leaf_size=1, metric='minkowski',\n",
            "                     metric_params=None, n_jobs=None, n_neighbors=19, p=1,\n",
            "                     weights='uniform')\n",
            "\n",
            " The best score across ALL searched params:\n",
            " 0.8581900609080841\n",
            "\n",
            " The best parameters across ALL searched params:\n",
            " {'leaf_size': 1, 'n_neighbors': 19, 'p': 1}\n"
          ],
          "name": "stdout"
        }
      ]
    },
    {
      "cell_type": "markdown",
      "metadata": {
        "id": "XBpuFXsXxoOW"
      },
      "source": [
        "#### ***Decision Tree***"
      ]
    },
    {
      "cell_type": "markdown",
      "metadata": {
        "id": "f5EO9O_z2qKC"
      },
      "source": [
        "**Modeling Decision Tree**"
      ]
    },
    {
      "cell_type": "code",
      "metadata": {
        "id": "cZNasJBK_93L"
      },
      "source": [
        "# Modeling Decision Tree\n",
        "dtc = tree.DecisionTreeClassifier(min_impurity_decrease=0.01)\n",
        "dtc.fit(X_train, y_train)\n",
        "\n",
        "# Predict to Test Data \n",
        "y_pred_dtc = dtc.predict(X_test)"
      ],
      "execution_count": null,
      "outputs": []
    },
    {
      "cell_type": "markdown",
      "metadata": {
        "id": "-hQJbLAV2uGm"
      },
      "source": [
        "**Model Evaluation**"
      ]
    },
    {
      "cell_type": "code",
      "metadata": {
        "id": "sYNobAynxOYC",
        "colab": {
          "base_uri": "https://localhost:8080/"
        },
        "outputId": "bf28b4f4-6e86-44a1-b04d-65c4d2b46517"
      },
      "source": [
        "# Show the Confussion Matrix\n",
        "cm_dtc = metrics.confusion_matrix(y_test, y_pred_dtc)\n",
        "cm_dtc"
      ],
      "execution_count": null,
      "outputs": [
        {
          "output_type": "execute_result",
          "data": {
            "text/plain": [
              "array([[90, 10],\n",
              "       [16, 38]])"
            ]
          },
          "metadata": {
            "tags": []
          },
          "execution_count": 120
        }
      ]
    },
    {
      "cell_type": "code",
      "metadata": {
        "id": "XzC3woEkaFhz",
        "colab": {
          "base_uri": "https://localhost:8080/"
        },
        "outputId": "4f12282d-79b9-47b1-ad63-c45a0578f054"
      },
      "source": [
        "# Show the Accuracy, Precision, Recall\n",
        "acc_dtc = metrics.accuracy_score(y_test, y_pred_dtc)\n",
        "prec_dtc = metrics.precision_score(y_test, y_pred_dtc)\n",
        "rec_dtc = metrics.recall_score(y_test, y_pred_dtc)\n",
        "f1_dtc = metrics.f1_score(y_test, y_pred_dtc)\n",
        "kappa_dtc = metrics.cohen_kappa_score(y_test, y_pred_dtc)\n",
        "\n",
        "print(\"Accuracy:\", acc_dtc)\n",
        "print(\"Precision:\", prec_dtc)\n",
        "print(\"Recall:\", rec_dtc)\n",
        "print(\"F1 Score:\", f1_dtc)\n",
        "print(\"Cohens Kappa Score:\", kappa_dtc)"
      ],
      "execution_count": null,
      "outputs": [
        {
          "output_type": "stream",
          "text": [
            "Accuracy: 0.8311688311688312\n",
            "Precision: 0.7916666666666666\n",
            "Recall: 0.7037037037037037\n",
            "F1 Score: 0.7450980392156864\n",
            "Cohens Kappa Score: 0.6195362979855568\n"
          ],
          "name": "stdout"
        }
      ]
    },
    {
      "cell_type": "code",
      "metadata": {
        "id": "RhkuuaY4d2Wb",
        "colab": {
          "base_uri": "https://localhost:8080/",
          "height": 626
        },
        "outputId": "d1b7222b-1808-435d-ca07-8cb71c7d3d7b"
      },
      "source": [
        "warnings.filterwarnings('ignore')\n",
        "\n",
        "# Set Size and Style\n",
        "plt.rcParams['figure.figsize'] = (10, 10)\n",
        "plt.style.use('ggplot')\n",
        "\n",
        "# Visualize ROC Curve\n",
        "y_pred_dtc_proba = dtc.predict_proba(X_test)[::,1]\n",
        "fprdtc, tprdtc, _ = metrics.roc_curve(y_test,  y_pred_dtc_proba)\n",
        "aucdtc = metrics.roc_auc_score(y_test, y_pred_dtc_proba)\n",
        "plt.plot(fprdtc,tprdtc,label=\"Decision Tree, auc=\"+str(aucdtc))\n",
        "plt.title('ROC Curve - Decision Tree')\n",
        "plt.xlabel('false positive rate') \n",
        "plt.ylabel('true positive rate')\n",
        "plt.legend(loc=4)\n",
        "plt.show()"
      ],
      "execution_count": null,
      "outputs": [
        {
          "output_type": "display_data",
          "data": {
            "image/png": "[encoded data removed]",
            "text/plain": [
              "<Figure size 720x720 with 1 Axes>"
            ]
          },
          "metadata": {
            "tags": []
          }
        }
      ]
    },
    {
      "cell_type": "markdown",
      "metadata": {
        "id": "nOtGq06Yx5m-"
      },
      "source": [
        "#### ***Naive Bayes***"
      ]
    },
    {
      "cell_type": "markdown",
      "metadata": {
        "id": "MSjixvtW3BCT"
      },
      "source": [
        "**Modeling Naive Bayes**"
      ]
    },
    {
      "cell_type": "code",
      "metadata": {
        "id": "dhyV9oiBxYaR"
      },
      "source": [
        "# Modeling Naive Bayes Classifier\n",
        "gnb = GaussianNB()\n",
        "gnb.fit(X_train, y_train)\n",
        "\n",
        "# Predict to Test Data\n",
        "y_pred_gnb= gnb.predict(X_test)"
      ],
      "execution_count": null,
      "outputs": []
    },
    {
      "cell_type": "markdown",
      "metadata": {
        "id": "aIj46eRf2-X2"
      },
      "source": [
        "**Model Evaluation**"
      ]
    },
    {
      "cell_type": "code",
      "metadata": {
        "id": "x5hK9_mKxaGy",
        "colab": {
          "base_uri": "https://localhost:8080/"
        },
        "outputId": "b63cf958-e9c8-4751-f438-99a9d16237ff"
      },
      "source": [
        "# Show the Confussion Matrix\n",
        "cm_gnb = metrics.confusion_matrix(y_test, y_pred_gnb)\n",
        "cm_gnb"
      ],
      "execution_count": null,
      "outputs": [
        {
          "output_type": "execute_result",
          "data": {
            "text/plain": [
              "array([[87, 13],\n",
              "       [22, 32]])"
            ]
          },
          "metadata": {
            "tags": []
          },
          "execution_count": 124
        }
      ]
    },
    {
      "cell_type": "code",
      "metadata": {
        "id": "ZUBWww1Wxb8E",
        "colab": {
          "base_uri": "https://localhost:8080/"
        },
        "outputId": "ace4ff6b-e4e5-451d-8065-f73a7497763c"
      },
      "source": [
        "# Show the Accuracy, Precision, Recall\n",
        "acc_gnb = metrics.accuracy_score(y_test, y_pred_gnb)\n",
        "prec_gnb = metrics.precision_score(y_test, y_pred_gnb)\n",
        "rec_gnb = metrics.recall_score(y_test, y_pred_gnb)\n",
        "f1_gnb = metrics.f1_score(y_test, y_pred_gnb)\n",
        "kappa_gnb = metrics.cohen_kappa_score(y_test, y_pred_gnb)\n",
        "\n",
        "print(\"Accuracy:\", acc_gnb)\n",
        "print(\"Precision:\", prec_gnb)\n",
        "print(\"Recall:\", rec_gnb)\n",
        "print(\"F1 Score:\", f1_gnb)\n",
        "print(\"Cohens Kappa Score:\", kappa_gnb)"
      ],
      "execution_count": null,
      "outputs": [
        {
          "output_type": "stream",
          "text": [
            "Accuracy: 0.7727272727272727\n",
            "Precision: 0.7111111111111111\n",
            "Recall: 0.5925925925925926\n",
            "F1 Score: 0.6464646464646464\n",
            "Cohens Kappa Score: 0.4810321586751396\n"
          ],
          "name": "stdout"
        }
      ]
    },
    {
      "cell_type": "code",
      "metadata": {
        "id": "QvjEOHVoeaKY",
        "colab": {
          "base_uri": "https://localhost:8080/",
          "height": 626
        },
        "outputId": "4c11a602-1059-4338-f0d2-678d4a203607"
      },
      "source": [
        "# ROC Curve\n",
        "y_pred_gnb_proba = gnb.predict_proba(X_test)[::,1]\n",
        "fprgnb, tprgnb, _ = metrics.roc_curve(y_test,  y_pred_gnb_proba)\n",
        "aucgnb = metrics.roc_auc_score(y_test, y_pred_gnb_proba)\n",
        "plt.plot(fprgnb,tprgnb,label=\"Naive Bayes, auc=\"+str(aucgnb))\n",
        "plt.title('ROC Curve - Naive Bayes')\n",
        "plt.xlabel('false positive rate') \n",
        "plt.ylabel('true positive rate')\n",
        "plt.legend(loc=4)\n",
        "plt.show()"
      ],
      "execution_count": null,
      "outputs": [
        {
          "output_type": "display_data",
          "data": {
            "image/png": "[encoded data removed]",
            "text/plain": [
              "<Figure size 720x720 with 1 Axes>"
            ]
          },
          "metadata": {
            "tags": []
          }
        }
      ]
    },
    {
      "cell_type": "markdown",
      "metadata": {
        "id": "KS2PyYi8Ld2H"
      },
      "source": [
        "#### ***K-Nearest Neighbor***"
      ]
    },
    {
      "cell_type": "markdown",
      "metadata": {
        "id": "vi5fHuZLgj70"
      },
      "source": [
        "**Modelling K-NN**"
      ]
    },
    {
      "cell_type": "code",
      "metadata": {
        "id": "8B-pBh2JRJLA"
      },
      "source": [
        "# Modeling KNN\n",
        "knn = KNeighborsClassifier(leaf_size = 1,\n",
        "                           n_neighbors = 24,\n",
        "                           p = 1)\n",
        "knn.fit(X_train, y_train)\n",
        "\n",
        "# Predict to Test Data\n",
        "y_pred_knn= knn.predict(X_test)"
      ],
      "execution_count": null,
      "outputs": []
    },
    {
      "cell_type": "markdown",
      "metadata": {
        "id": "bCMz6Ipa8L2o"
      },
      "source": [
        "**Model Evaluation**"
      ]
    },
    {
      "cell_type": "code",
      "metadata": {
        "id": "2IGoKuhTRjSV",
        "colab": {
          "base_uri": "https://localhost:8080/"
        },
        "outputId": "0adfa4f1-a225-4077-981e-ce2c991e5cc5"
      },
      "source": [
        "# Show the Confussion Matrix\n",
        "cm_knn = metrics.confusion_matrix(y_test, y_pred_knn)\n",
        "cm_knn"
      ],
      "execution_count": null,
      "outputs": [
        {
          "output_type": "execute_result",
          "data": {
            "text/plain": [
              "array([[92,  8],\n",
              "       [23, 31]])"
            ]
          },
          "metadata": {
            "tags": []
          },
          "execution_count": 128
        }
      ]
    },
    {
      "cell_type": "code",
      "metadata": {
        "id": "vGfDkvoyRq24",
        "colab": {
          "base_uri": "https://localhost:8080/"
        },
        "outputId": "5e9c4464-29b3-4494-beff-f5a0f596aa41"
      },
      "source": [
        "# Show the Accuracy, Precision, Recall\n",
        "acc_knn = metrics.accuracy_score(y_test, y_pred_knn)\n",
        "prec_knn = metrics.precision_score(y_test, y_pred_knn)\n",
        "rec_knn = metrics.recall_score(y_test, y_pred_knn)\n",
        "f1_knn = metrics.f1_score(y_test, y_pred_knn)\n",
        "kappa_knn = metrics.cohen_kappa_score(y_test, y_pred_knn)\n",
        "\n",
        "print(\"Accuracy:\", acc_knn)\n",
        "print(\"Precision:\", prec_knn)\n",
        "print(\"Recall:\", rec_knn)\n",
        "print(\"F1 Score:\", f1_knn)\n",
        "print(\"Cohens Kappa Score:\", kappa_knn)"
      ],
      "execution_count": null,
      "outputs": [
        {
          "output_type": "stream",
          "text": [
            "Accuracy: 0.7987012987012987\n",
            "Precision: 0.7948717948717948\n",
            "Recall: 0.5740740740740741\n",
            "F1 Score: 0.6666666666666666\n",
            "Cohens Kappa Score: 0.5277942631058359\n"
          ],
          "name": "stdout"
        }
      ]
    },
    {
      "cell_type": "code",
      "metadata": {
        "id": "lIcUWjI8SAA5",
        "colab": {
          "base_uri": "https://localhost:8080/",
          "height": 626
        },
        "outputId": "e42b97ad-cd11-4eed-f117-4e50d5b66566"
      },
      "source": [
        "# ROC Curve\n",
        "y_pred_knn_proba = knn.predict_proba(X_test)[::,1]\n",
        "fprknn, tprknn, _ = metrics.roc_curve(y_test,  y_pred_knn_proba)\n",
        "aucknn = metrics.roc_auc_score(y_test, y_pred_knn_proba)\n",
        "plt.plot(fprknn,tprknn,label=\"K-Nearest Neighbor, auc=\"+str(aucknn))\n",
        "plt.title('ROC Curve - K-Nearest Neighbor')\n",
        "plt.xlabel('false positive rate') \n",
        "plt.ylabel('true positive rate')\n",
        "plt.legend(loc=4)\n",
        "plt.show()"
      ],
      "execution_count": null,
      "outputs": [
        {
          "output_type": "display_data",
          "data": {
            "image/png": "[encoded data removed]",
            "text/plain": [
              "<Figure size 720x720 with 1 Axes>"
            ]
          },
          "metadata": {
            "tags": []
          }
        }
      ]
    },
    {
      "cell_type": "markdown",
      "metadata": {
        "id": "CZjKU3fwnuyH"
      },
      "source": [
        "#### ***Random Forest***"
      ]
    },
    {
      "cell_type": "code",
      "metadata": {
        "id": "BPlAGteUATlQ"
      },
      "source": [
        "accuracy_scores = []\n",
        "recall_scores = []\n",
        "\n",
        "for i in range(0, 300):\n",
        "    rfo = RandomForestClassifier(max_depth= 15, min_samples_leaf= 5, \n",
        "                                min_samples_split= 15, n_estimators= 100,random_state=i)\n",
        "    rfo.fit(X_train, y_train)\n",
        "    accuracy_scores.append(accuracy_score(y_test, rfo.predict(X_test)))\n",
        "    recall_scores.append(recall_score(y_test, rfo.predict(X_test)))\n",
        "\n",
        "print(max(accuracy_scores))\n",
        "print(\"Best random i accuracy =\",accuracy_scores.index(max(accuracy_scores)))\n",
        "print(max(recall_scores))\n",
        "print(\"Best random i recall =\",recall_scores.index(max(recall_scores)))"
      ],
      "execution_count": null,
      "outputs": []
    },
    {
      "cell_type": "code",
      "metadata": {
        "id": "NJRPDRtd444h"
      },
      "source": [
        "# Modeling Random Forest\n",
        "rfo = RandomForestClassifier(max_depth= 15, min_samples_leaf= 5, \n",
        "                             min_samples_split= 15, n_estimators= 100,random_state=260) #or 46\n",
        "rfo.fit(X_train, y_train)\n",
        "\n",
        "# Predict to Test Data\n",
        "y_pred_rfo= rfo.predict(X_test)"
      ],
      "execution_count": null,
      "outputs": []
    },
    {
      "cell_type": "code",
      "metadata": {
        "id": "tfB2RoiO84mm",
        "colab": {
          "base_uri": "https://localhost:8080/"
        },
        "outputId": "6c9a469d-a6d9-4b97-8372-a72503f68433"
      },
      "source": [
        "# Show the Confussion Matrix\n",
        "cm_rfo = metrics.confusion_matrix(y_test, y_pred_rfo)\n",
        "cm_rfo"
      ],
      "execution_count": null,
      "outputs": [
        {
          "output_type": "execute_result",
          "data": {
            "text/plain": [
              "array([[96,  4],\n",
              "       [18, 36]])"
            ]
          },
          "metadata": {
            "tags": []
          },
          "execution_count": 146
        }
      ]
    },
    {
      "cell_type": "code",
      "metadata": {
        "id": "IqNKYC9Z9BVV",
        "colab": {
          "base_uri": "https://localhost:8080/"
        },
        "outputId": "430801a9-9b2e-482d-db09-74ec2b06e4b4"
      },
      "source": [
        "# Show the Accuracy, Precision, Recall\n",
        "acc_rfo = metrics.accuracy_score(y_test, y_pred_rfo)\n",
        "prec_rfo = metrics.precision_score(y_test, y_pred_rfo)\n",
        "rec_rfo = metrics.recall_score(y_test, y_pred_rfo)\n",
        "f1_rfo = metrics.f1_score(y_test, y_pred_rfo)\n",
        "kappa_rfo = metrics.cohen_kappa_score(y_test, y_pred_rfo)\n",
        "\n",
        "print(\"Accuracy:\", acc_rfo)\n",
        "print(\"Precision:\", prec_rfo)\n",
        "print(\"Recall:\", rec_rfo)\n",
        "print(\"F1 Score:\", f1_rfo)\n",
        "print(\"Cohens Kappa Score:\", kappa_rfo)"
      ],
      "execution_count": null,
      "outputs": [
        {
          "output_type": "stream",
          "text": [
            "Accuracy: 0.8571428571428571\n",
            "Precision: 0.9\n",
            "Recall: 0.6666666666666666\n",
            "F1 Score: 0.7659574468085106\n",
            "Cohens Kappa Score: 0.6664040961008271\n"
          ],
          "name": "stdout"
        }
      ]
    },
    {
      "cell_type": "code",
      "metadata": {
        "id": "xjbfpiV3AtCT",
        "colab": {
          "base_uri": "https://localhost:8080/",
          "height": 626
        },
        "outputId": "5683cd9e-933e-4a8b-dbb9-391babc5fdaf"
      },
      "source": [
        "y_pred_rfo_proba = rfo.predict_proba(X_test)[::,1]\n",
        "fprrfo, tprrfo, _ = metrics.roc_curve(y_test,  y_pred_rfo_proba)\n",
        "aucrfo = metrics.roc_auc_score(y_test, y_pred_rfo_proba)\n",
        "plt.plot(fprrfo,tprrfo,label=\"Random Forest, auc=\"+str(aucrfo))\n",
        "plt.title('ROC Curve - Random Forest')\n",
        "plt.xlabel('false positive rate')\n",
        "plt.ylabel('true positive rate')\n",
        "plt.legend(loc=4)\n",
        "plt.show()"
      ],
      "execution_count": null,
      "outputs": [
        {
          "output_type": "display_data",
          "data": {
            "image/png": "[encoded data removed]",
            "text/plain": [
              "<Figure size 720x720 with 1 Axes>"
            ]
          },
          "metadata": {
            "tags": []
          }
        }
      ]
    },
    {
      "cell_type": "markdown",
      "metadata": {
        "id": "smDzk-Kox9Hg"
      },
      "source": [
        "#### ***Model Comparison***"
      ]
    },
    {
      "cell_type": "code",
      "metadata": {
        "id": "1Mbup_VsxfE3",
        "colab": {
          "base_uri": "https://localhost:8080/"
        },
        "outputId": "985d3f9c-c3b7-4c7c-ea7a-9afd974fec52"
      },
      "source": [
        "# Comparing Model Performance\n",
        "print(\"Decision Tree Accuracy = {0:.2f}%\".format(acc_dtc*100))\n",
        "print(\"Decision Tree Precision = {0:.2f}%\".format(prec_dtc*100))\n",
        "print(\"Decision Tree Recall = {0:.2f}%\".format(rec_dtc*100))\n",
        "print(\"Decision Tree F1-Score = {0:.2f}%\".format(f1_dtc*100))\n",
        "print(\"_______________________\")\n",
        "print(\"Naive Bayes Accuracy = {0:.2f}%\".format(acc_gnb*100))\n",
        "print(\"Naive Bayes Precision = {0:.2f}%\".format(prec_gnb*100))\n",
        "print(\"Naive Bayes Recall = {0:.2f}%\".format(rec_gnb*100))\n",
        "print(\"Naive Bayes F1-Score = {0:.2f}%\".format(f1_gnb*100))\n",
        "print(\"_______________________\")\n",
        "print(\"K-Nearest Neighbor Accuracy = {0:.2f}%\".format(acc_knn*100))\n",
        "print(\"K-Nearest Neighbor Precision = {0:.2f}%\".format(prec_knn*100))\n",
        "print(\"K-Nearest Neighbor Recall = {0:.2f}%\".format(rec_knn*100))\n",
        "print(\"K-Nearest Neighbor F1-Score = {0:.2f}%\".format(f1_knn*100))\n",
        "print(\"_______________________\")\n",
        "print(\"Random Forest Accuracy = {0:.2f}%\".format(acc_rfo*100))\n",
        "print(\"Random Forest Precision = {0:.2f}%\".format(prec_rfo*100))\n",
        "print(\"Random Forest Recall = {0:.2f}%\".format(rec_rfo*100))\n",
        "print(\"Random Forest F1-Score = {0:.2f}%\".format(f1_rfo*100))"
      ],
      "execution_count": null,
      "outputs": [
        {
          "output_type": "stream",
          "text": [
            "Decision Tree Accuracy = 83.12%\n",
            "Decision Tree Precision = 79.17%\n",
            "Decision Tree Recall = 70.37%\n",
            "Decision Tree F1-Score = 74.51%\n",
            "_______________________\n",
            "Naive Bayes Accuracy = 77.27%\n",
            "Naive Bayes Precision = 71.11%\n",
            "Naive Bayes Recall = 59.26%\n",
            "Naive Bayes F1-Score = 64.65%\n",
            "_______________________\n",
            "K-Nearest Neighbor Accuracy = 79.87%\n",
            "K-Nearest Neighbor Precision = 79.49%\n",
            "K-Nearest Neighbor Recall = 57.41%\n",
            "K-Nearest Neighbor F1-Score = 66.67%\n",
            "_______________________\n",
            "Random Forest Accuracy = 85.71%\n",
            "Random Forest Precision = 90.00%\n",
            "Random Forest Recall = 66.67%\n",
            "Random Forest F1-Score = 76.60%\n"
          ],
          "name": "stdout"
        }
      ]
    },
    {
      "cell_type": "code",
      "metadata": {
        "id": "o3vmPWKqagI6",
        "colab": {
          "base_uri": "https://localhost:8080/",
          "height": 626
        },
        "outputId": "cc087365-199d-42b8-e8be-8107c3b73e64"
      },
      "source": [
        "# Comparing ROC Curve\n",
        "plt.plot(fprdtc,tprdtc,label=\"Decision Tree, auc=\"+str(aucdtc))\n",
        "plt.plot(fprgnb,tprgnb,label=\"Naive Bayes, auc=\"+str(aucgnb))\n",
        "plt.plot(fprknn,tprknn,label=\"K-Nearest Neighbor, auc=\"+str(aucknn))\n",
        "plt.plot(fprrfo,tprrfo,label=\"Random Forest, auc=\"+str(aucrfo))\n",
        "plt.title('ROC Curve')\n",
        "plt.xlabel('False Positive Rate')\n",
        "plt.ylabel('True Positive Rate')\n",
        "plt.legend(loc=4)\n",
        "plt.show()"
      ],
      "execution_count": null,
      "outputs": [
        {
          "output_type": "display_data",
          "data": {
            "image/png": "[encoded data removed]",
            "text/plain": [
              "<Figure size 720x720 with 1 Axes>"
            ]
          },
          "metadata": {
            "tags": []
          }
        }
      ]
    },
    {
      "cell_type": "markdown",
      "metadata": {
        "id": "8fptVKNrRnM1"
      },
      "source": [
        "#### ***Conclussion***"
      ]
    },
    {
      "cell_type": "code",
      "metadata": {
        "colab": {
          "base_uri": "https://localhost:8080/"
        },
        "id": "gHJ4tN-4RfUn",
        "outputId": "a9275ad9-56fb-4a3e-a5db-42c3085b35ed"
      },
      "source": [
        "print(\"Random Forest Accuracy = {0:.2f}%\".format(acc_rfo*100))\r\n",
        "print(\"Random Forest Precision = {0:.2f}%\".format(prec_rfo*100))\r\n",
        "print(\"Random Forest Recall = {0:.2f}%\".format(rec_rfo*100))\r\n",
        "print(\"Random Forest F1-Score = {0:.2f}%\".format(f1_rfo*100))\r\n",
        "print(\"Random Forest AUC = {0:.2f}\".format(aucrfo))"
      ],
      "execution_count": null,
      "outputs": [
        {
          "output_type": "stream",
          "text": [
            "Random Forest Accuracy = 85.71%\n",
            "Random Forest Precision = 90.00%\n",
            "Random Forest Recall = 66.67%\n",
            "Random Forest F1-Score = 76.60%\n",
            "Random Forest AUC = 0.89\n"
          ],
          "name": "stdout"
        }
      ]
    },
    {
      "cell_type": "markdown",
      "metadata": {
        "id": "UsU0oCcA5_Bj"
      },
      "source": [
        "#### ***Kesimpulan***\n",
        "\n",
        "Disini kita bisa melihat, dari 5 model klasifikasi yang dilakukan, model klasifikasi terbaik yang untuk dataset ini pada :\n",
        "\n",
        "* Accuracy, Random Forest = 85.71%,\n",
        "* Precision, Random Forest  = 90.00%,\n",
        "* Recall, Random Forest = 66.67%,\n",
        "* F1-Score, Random Forest = 76.60%,\n",
        "* AUC, Random Forest = 0.89.\n"
      ]
    }
  ]
}