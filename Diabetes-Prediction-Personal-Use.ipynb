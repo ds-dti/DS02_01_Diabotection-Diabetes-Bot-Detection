{
  "nbformat": 4,
  "nbformat_minor": 0,
  "metadata": {
    "colab": {
      "name": "Copy of Diabetes",
      "provenance": [],
      "collapsed_sections": [
        "XBpuFXsXxoOW",
        "nOtGq06Yx5m-",
        "KS2PyYi8Ld2H",
        "baHMGOUbS-76",
        "smDzk-Kox9Hg"
      ],
      "toc_visible": true
    },
    "kernelspec": {
      "name": "python3",
      "display_name": "Python 3"
    },
    "accelerator": "GPU"
  },
  "cells": [
    {
      "cell_type": "markdown",
      "metadata": {
        "id": "Up2MQL0imvLy"
      },
      "source": [
        "*Data Science Course - Telkom Digital Talent Incubator*\n",
        "\n",
        "\n",
        "---\n",
        "\n",
        "\n"
      ]
    },
    {
      "cell_type": "markdown",
      "metadata": {
        "id": "COHOuO-aicds"
      },
      "source": [
        "# **Classification**"
      ]
    },
    {
      "cell_type": "markdown",
      "metadata": {
        "id": "kgluYCulxxIJ"
      },
      "source": [
        "#### ***Import Libraries***"
      ]
    },
    {
      "cell_type": "code",
      "metadata": {
        "id": "3LnjbBxXx0vz"
      },
      "source": [
        "# Import Library\n",
        "import pandas as pd\n",
        "import sklearn.metrics as metrics\n",
        "from sklearn.model_selection import GridSearchCV\n",
        "import numpy as np\n",
        "from sklearn.pipeline import make_pipeline  \n",
        "from sklearn.preprocessing import StandardScaler\n",
        "import seaborn as sns\n",
        "import matplotlib.pyplot as plt"
      ],
      "execution_count": null,
      "outputs": []
    },
    {
      "cell_type": "markdown",
      "metadata": {
        "id": "HntNjRUTQ_1N"
      },
      "source": [
        "#### ***Input Dataset***"
      ]
    },
    {
      "cell_type": "code",
      "metadata": {
        "id": "pa0blw2s6G7X"
      },
      "source": [
        "# Import Data to Google Colab\n",
        "df_x = pd.read_csv('https://raw.githubusercontent.com/dealtron/Project-lol/master/data/diabetes.csv', sep = ',')"
      ],
      "execution_count": null,
      "outputs": []
    },
    {
      "cell_type": "code",
      "metadata": {
        "id": "mMiecGBjRuMb",
        "colab": {
          "base_uri": "https://localhost:8080/",
          "height": 204
        },
        "outputId": "58ec87dc-2d5f-480f-cc38-787790a6de99"
      },
      "source": [
        "# Show 10 first Row\n",
        "df_x.head()"
      ],
      "execution_count": null,
      "outputs": [
        {
          "output_type": "execute_result",
          "data": {
            "text/html": [
              "<div>\n",
              "<style scoped>\n",
              "    .dataframe tbody tr th:only-of-type {\n",
              "        vertical-align: middle;\n",
              "    }\n",
              "\n",
              "    .dataframe tbody tr th {\n",
              "        vertical-align: top;\n",
              "    }\n",
              "\n",
              "    .dataframe thead th {\n",
              "        text-align: right;\n",
              "    }\n",
              "</style>\n",
              "<table border=\"1\" class=\"dataframe\">\n",
              "  <thead>\n",
              "    <tr style=\"text-align: right;\">\n",
              "      <th></th>\n",
              "      <th>Pregnancies</th>\n",
              "      <th>Glucose</th>\n",
              "      <th>BloodPressure</th>\n",
              "      <th>SkinThickness</th>\n",
              "      <th>Insulin</th>\n",
              "      <th>BMI</th>\n",
              "      <th>DiabetesPedigreeFunction</th>\n",
              "      <th>Age</th>\n",
              "      <th>Outcome</th>\n",
              "    </tr>\n",
              "  </thead>\n",
              "  <tbody>\n",
              "    <tr>\n",
              "      <th>0</th>\n",
              "      <td>6</td>\n",
              "      <td>148</td>\n",
              "      <td>72</td>\n",
              "      <td>35</td>\n",
              "      <td>0</td>\n",
              "      <td>33.6</td>\n",
              "      <td>0.627</td>\n",
              "      <td>50</td>\n",
              "      <td>1</td>\n",
              "    </tr>\n",
              "    <tr>\n",
              "      <th>1</th>\n",
              "      <td>1</td>\n",
              "      <td>85</td>\n",
              "      <td>66</td>\n",
              "      <td>29</td>\n",
              "      <td>0</td>\n",
              "      <td>26.6</td>\n",
              "      <td>0.351</td>\n",
              "      <td>31</td>\n",
              "      <td>0</td>\n",
              "    </tr>\n",
              "    <tr>\n",
              "      <th>2</th>\n",
              "      <td>8</td>\n",
              "      <td>183</td>\n",
              "      <td>64</td>\n",
              "      <td>0</td>\n",
              "      <td>0</td>\n",
              "      <td>23.3</td>\n",
              "      <td>0.672</td>\n",
              "      <td>32</td>\n",
              "      <td>1</td>\n",
              "    </tr>\n",
              "    <tr>\n",
              "      <th>3</th>\n",
              "      <td>1</td>\n",
              "      <td>89</td>\n",
              "      <td>66</td>\n",
              "      <td>23</td>\n",
              "      <td>94</td>\n",
              "      <td>28.1</td>\n",
              "      <td>0.167</td>\n",
              "      <td>21</td>\n",
              "      <td>0</td>\n",
              "    </tr>\n",
              "    <tr>\n",
              "      <th>4</th>\n",
              "      <td>0</td>\n",
              "      <td>137</td>\n",
              "      <td>40</td>\n",
              "      <td>35</td>\n",
              "      <td>168</td>\n",
              "      <td>43.1</td>\n",
              "      <td>2.288</td>\n",
              "      <td>33</td>\n",
              "      <td>1</td>\n",
              "    </tr>\n",
              "  </tbody>\n",
              "</table>\n",
              "</div>"
            ],
            "text/plain": [
              "   Pregnancies  Glucose  BloodPressure  ...  DiabetesPedigreeFunction  Age  Outcome\n",
              "0            6      148             72  ...                     0.627   50        1\n",
              "1            1       85             66  ...                     0.351   31        0\n",
              "2            8      183             64  ...                     0.672   32        1\n",
              "3            1       89             66  ...                     0.167   21        0\n",
              "4            0      137             40  ...                     2.288   33        1\n",
              "\n",
              "[5 rows x 9 columns]"
            ]
          },
          "metadata": {
            "tags": []
          },
          "execution_count": 5
        }
      ]
    },
    {
      "cell_type": "markdown",
      "metadata": {
        "id": "30qjwPUsnIXO"
      },
      "source": [
        "#### ***Data Visualization***"
      ]
    },
    {
      "cell_type": "code",
      "metadata": {
        "id": "WgcWsuGARvnM",
        "colab": {
          "base_uri": "https://localhost:8080/",
          "height": 420
        },
        "outputId": "d59e09b9-ba57-4d83-e0ed-5674909b287c"
      },
      "source": [
        "c_depo = df_x['Outcome'].value_counts()\n",
        "print(c_depo)\n",
        "sns.catplot(x='Outcome',kind=\"count\", data=df_x, height=5, aspect=1.5)\n",
        "plt.xlabel(\"Outcome\", size=14)\n",
        "plt.ylabel(\"Count\", size=14)\n",
        "plt.tight_layout()"
      ],
      "execution_count": null,
      "outputs": [
        {
          "output_type": "stream",
          "text": [
            "0    500\n",
            "1    268\n",
            "Name: Outcome, dtype: int64\n"
          ],
          "name": "stdout"
        },
        {
          "output_type": "display_data",
          "data": {
            "image/png": "[encoded data removed]",
            "text/plain": [
              "<Figure size 540x360 with 1 Axes>"
            ]
          },
          "metadata": {
            "tags": [],
            "needs_background": "light"
          }
        }
      ]
    },
    {
      "cell_type": "markdown",
      "metadata": {
        "id": "ovdislrOmxw7"
      },
      "source": [
        "#### ***Data Preprocessing***"
      ]
    },
    {
      "cell_type": "code",
      "metadata": {
        "id": "gw_YvE_njZlb"
      },
      "source": [
        "df = df_x.copy()"
      ],
      "execution_count": null,
      "outputs": []
    },
    {
      "cell_type": "code",
      "metadata": {
        "id": "jIptGFTOi5kR"
      },
      "source": [
        "df[['Glucose','BloodPressure','SkinThickness','BMI']] = df_x[['Glucose','BloodPressure','SkinThickness','BMI']].replace(0,np.NaN)"
      ],
      "execution_count": null,
      "outputs": []
    },
    {
      "cell_type": "code",
      "metadata": {
        "id": "WqMBNZiKm-KV",
        "colab": {
          "base_uri": "https://localhost:8080/"
        },
        "outputId": "72ba60ce-b380-4ae6-9397-350136a01913"
      },
      "source": [
        "# Check for Missing Values\n",
        "df.isnull().sum()"
      ],
      "execution_count": null,
      "outputs": [
        {
          "output_type": "execute_result",
          "data": {
            "text/plain": [
              "Pregnancies                   0\n",
              "Glucose                       5\n",
              "BloodPressure                35\n",
              "SkinThickness               227\n",
              "Insulin                       0\n",
              "BMI                          11\n",
              "DiabetesPedigreeFunction      0\n",
              "Age                           0\n",
              "Outcome                       0\n",
              "dtype: int64"
            ]
          },
          "metadata": {
            "tags": []
          },
          "execution_count": 9
        }
      ]
    },
    {
      "cell_type": "code",
      "metadata": {
        "id": "7eiiyFGhlFrt"
      },
      "source": [
        "def median_target(var):   \r\n",
        "    temp = df[df[var].notnull()]\r\n",
        "    temp = temp[[var, 'Outcome']].groupby(['Outcome'])[[var]].median().reset_index()\r\n",
        "    return temp"
      ],
      "execution_count": null,
      "outputs": []
    },
    {
      "cell_type": "code",
      "metadata": {
        "colab": {
          "base_uri": "https://localhost:8080/",
          "height": 111
        },
        "id": "yf5-AWXmlm6e",
        "outputId": "90090d70-2741-425e-e3de-decc8d44feed"
      },
      "source": [
        "median_target('Glucose')"
      ],
      "execution_count": null,
      "outputs": [
        {
          "output_type": "execute_result",
          "data": {
            "text/html": [
              "<div>\n",
              "<style scoped>\n",
              "    .dataframe tbody tr th:only-of-type {\n",
              "        vertical-align: middle;\n",
              "    }\n",
              "\n",
              "    .dataframe tbody tr th {\n",
              "        vertical-align: top;\n",
              "    }\n",
              "\n",
              "    .dataframe thead th {\n",
              "        text-align: right;\n",
              "    }\n",
              "</style>\n",
              "<table border=\"1\" class=\"dataframe\">\n",
              "  <thead>\n",
              "    <tr style=\"text-align: right;\">\n",
              "      <th></th>\n",
              "      <th>Outcome</th>\n",
              "      <th>Glucose</th>\n",
              "    </tr>\n",
              "  </thead>\n",
              "  <tbody>\n",
              "    <tr>\n",
              "      <th>0</th>\n",
              "      <td>0</td>\n",
              "      <td>107.0</td>\n",
              "    </tr>\n",
              "    <tr>\n",
              "      <th>1</th>\n",
              "      <td>1</td>\n",
              "      <td>140.0</td>\n",
              "    </tr>\n",
              "  </tbody>\n",
              "</table>\n",
              "</div>"
            ],
            "text/plain": [
              "   Outcome  Glucose\n",
              "0        0    107.0\n",
              "1        1    140.0"
            ]
          },
          "metadata": {
            "tags": []
          },
          "execution_count": 11
        }
      ]
    },
    {
      "cell_type": "code",
      "metadata": {
        "id": "4Lo9bkwHl4CB"
      },
      "source": [
        "df.loc[(df['Outcome'] == 0 ) & (df['Glucose'].isnull()), 'Glucose'] = 107\r\n",
        "df.loc[(df['Outcome'] == 1 ) & (df['Glucose'].isnull()), 'Glucose'] = 140"
      ],
      "execution_count": null,
      "outputs": []
    },
    {
      "cell_type": "code",
      "metadata": {
        "colab": {
          "base_uri": "https://localhost:8080/",
          "height": 111
        },
        "id": "wEAWJUn9mtla",
        "outputId": "163fcb3f-3354-431b-fd0e-dcfdff994d92"
      },
      "source": [
        "median_target('BloodPressure')"
      ],
      "execution_count": null,
      "outputs": [
        {
          "output_type": "execute_result",
          "data": {
            "text/html": [
              "<div>\n",
              "<style scoped>\n",
              "    .dataframe tbody tr th:only-of-type {\n",
              "        vertical-align: middle;\n",
              "    }\n",
              "\n",
              "    .dataframe tbody tr th {\n",
              "        vertical-align: top;\n",
              "    }\n",
              "\n",
              "    .dataframe thead th {\n",
              "        text-align: right;\n",
              "    }\n",
              "</style>\n",
              "<table border=\"1\" class=\"dataframe\">\n",
              "  <thead>\n",
              "    <tr style=\"text-align: right;\">\n",
              "      <th></th>\n",
              "      <th>Outcome</th>\n",
              "      <th>BloodPressure</th>\n",
              "    </tr>\n",
              "  </thead>\n",
              "  <tbody>\n",
              "    <tr>\n",
              "      <th>0</th>\n",
              "      <td>0</td>\n",
              "      <td>70.0</td>\n",
              "    </tr>\n",
              "    <tr>\n",
              "      <th>1</th>\n",
              "      <td>1</td>\n",
              "      <td>74.5</td>\n",
              "    </tr>\n",
              "  </tbody>\n",
              "</table>\n",
              "</div>"
            ],
            "text/plain": [
              "   Outcome  BloodPressure\n",
              "0        0           70.0\n",
              "1        1           74.5"
            ]
          },
          "metadata": {
            "tags": []
          },
          "execution_count": 13
        }
      ]
    },
    {
      "cell_type": "code",
      "metadata": {
        "id": "XZPynWsemvps"
      },
      "source": [
        "df.loc[(df['Outcome'] == 0 ) & (df['BloodPressure'].isnull()), 'BloodPressure'] = 70\r\n",
        "df.loc[(df['Outcome'] == 1 ) & (df['BloodPressure'].isnull()), 'BloodPressure'] = 74.5"
      ],
      "execution_count": null,
      "outputs": []
    },
    {
      "cell_type": "code",
      "metadata": {
        "colab": {
          "base_uri": "https://localhost:8080/",
          "height": 111
        },
        "id": "Ep06kQFvl9RV",
        "outputId": "fabbab14-c4e0-4ad0-e160-69f143f0736d"
      },
      "source": [
        "median_target('SkinThickness')"
      ],
      "execution_count": null,
      "outputs": [
        {
          "output_type": "execute_result",
          "data": {
            "text/html": [
              "<div>\n",
              "<style scoped>\n",
              "    .dataframe tbody tr th:only-of-type {\n",
              "        vertical-align: middle;\n",
              "    }\n",
              "\n",
              "    .dataframe tbody tr th {\n",
              "        vertical-align: top;\n",
              "    }\n",
              "\n",
              "    .dataframe thead th {\n",
              "        text-align: right;\n",
              "    }\n",
              "</style>\n",
              "<table border=\"1\" class=\"dataframe\">\n",
              "  <thead>\n",
              "    <tr style=\"text-align: right;\">\n",
              "      <th></th>\n",
              "      <th>Outcome</th>\n",
              "      <th>SkinThickness</th>\n",
              "    </tr>\n",
              "  </thead>\n",
              "  <tbody>\n",
              "    <tr>\n",
              "      <th>0</th>\n",
              "      <td>0</td>\n",
              "      <td>27.0</td>\n",
              "    </tr>\n",
              "    <tr>\n",
              "      <th>1</th>\n",
              "      <td>1</td>\n",
              "      <td>32.0</td>\n",
              "    </tr>\n",
              "  </tbody>\n",
              "</table>\n",
              "</div>"
            ],
            "text/plain": [
              "   Outcome  SkinThickness\n",
              "0        0           27.0\n",
              "1        1           32.0"
            ]
          },
          "metadata": {
            "tags": []
          },
          "execution_count": 15
        }
      ]
    },
    {
      "cell_type": "code",
      "metadata": {
        "id": "GqVMC88XmEQp"
      },
      "source": [
        "df.loc[(df['Outcome'] == 0 ) & (df['SkinThickness'].isnull()), 'SkinThickness'] = 27\r\n",
        "df.loc[(df['Outcome'] == 1 ) & (df['SkinThickness'].isnull()), 'SkinThickness'] = 32"
      ],
      "execution_count": null,
      "outputs": []
    },
    {
      "cell_type": "code",
      "metadata": {
        "colab": {
          "base_uri": "https://localhost:8080/",
          "height": 111
        },
        "id": "BCnb3bFFmPqi",
        "outputId": "ba97fefb-4903-42f5-8ec0-06e7e3d6db8e"
      },
      "source": [
        "median_target('BMI')"
      ],
      "execution_count": null,
      "outputs": [
        {
          "output_type": "execute_result",
          "data": {
            "text/html": [
              "<div>\n",
              "<style scoped>\n",
              "    .dataframe tbody tr th:only-of-type {\n",
              "        vertical-align: middle;\n",
              "    }\n",
              "\n",
              "    .dataframe tbody tr th {\n",
              "        vertical-align: top;\n",
              "    }\n",
              "\n",
              "    .dataframe thead th {\n",
              "        text-align: right;\n",
              "    }\n",
              "</style>\n",
              "<table border=\"1\" class=\"dataframe\">\n",
              "  <thead>\n",
              "    <tr style=\"text-align: right;\">\n",
              "      <th></th>\n",
              "      <th>Outcome</th>\n",
              "      <th>BMI</th>\n",
              "    </tr>\n",
              "  </thead>\n",
              "  <tbody>\n",
              "    <tr>\n",
              "      <th>0</th>\n",
              "      <td>0</td>\n",
              "      <td>30.1</td>\n",
              "    </tr>\n",
              "    <tr>\n",
              "      <th>1</th>\n",
              "      <td>1</td>\n",
              "      <td>34.3</td>\n",
              "    </tr>\n",
              "  </tbody>\n",
              "</table>\n",
              "</div>"
            ],
            "text/plain": [
              "   Outcome   BMI\n",
              "0        0  30.1\n",
              "1        1  34.3"
            ]
          },
          "metadata": {
            "tags": []
          },
          "execution_count": 17
        }
      ]
    },
    {
      "cell_type": "code",
      "metadata": {
        "id": "4DU0PpyqmZxJ"
      },
      "source": [
        "df.loc[(df['Outcome'] == 0 ) & (df['BMI'].isnull()), 'BMI'] = 30.1\r\n",
        "df.loc[(df['Outcome'] == 1 ) & (df['BMI'].isnull()), 'BMI'] = 34.3"
      ],
      "execution_count": null,
      "outputs": []
    },
    {
      "cell_type": "code",
      "metadata": {
        "colab": {
          "base_uri": "https://localhost:8080/"
        },
        "id": "2Lrd951AnLrG",
        "outputId": "d19532f7-dd6f-402c-d667-07483c305ec1"
      },
      "source": [
        "# Check for Missing Values\r\n",
        "df.isnull().sum()"
      ],
      "execution_count": null,
      "outputs": [
        {
          "output_type": "execute_result",
          "data": {
            "text/plain": [
              "Pregnancies                 0\n",
              "Glucose                     0\n",
              "BloodPressure               0\n",
              "SkinThickness               0\n",
              "Insulin                     0\n",
              "BMI                         0\n",
              "DiabetesPedigreeFunction    0\n",
              "Age                         0\n",
              "Outcome                     0\n",
              "dtype: int64"
            ]
          },
          "metadata": {
            "tags": []
          },
          "execution_count": 19
        }
      ]
    },
    {
      "cell_type": "markdown",
      "metadata": {
        "id": "8je78WydWjbV"
      },
      "source": [
        "#### ***Correlation Matrix***"
      ]
    },
    {
      "cell_type": "code",
      "metadata": {
        "id": "yt-hwKixWjDX"
      },
      "source": [
        "import seaborn as sns\n",
        "import matplotlib.pyplot as plt"
      ],
      "execution_count": null,
      "outputs": []
    },
    {
      "cell_type": "code",
      "metadata": {
        "colab": {
          "base_uri": "https://localhost:8080/",
          "height": 1000
        },
        "id": "kSESklfhWmK4",
        "outputId": "9a1cee6c-97b5-48da-fe6b-b0655aee606f"
      },
      "source": [
        "corr_matrix = df_x.corr()\n",
        "fig, ax = plt.subplots(figsize=(15, 15))\n",
        "ax = sns.heatmap(corr_matrix,\n",
        "                 annot = True,\n",
        "                 linewidths = 0.5,\n",
        "                 fmt = \".2f\",\n",
        "                 cmap = \"YlGnBu\");\n",
        "bottom, top = ax.get_ylim()\n",
        "ax.set_ylim(bottom + 0.5, top - 0.5)"
      ],
      "execution_count": null,
      "outputs": [
        {
          "output_type": "execute_result",
          "data": {
            "text/plain": [
              "(9.5, -0.5)"
            ]
          },
          "metadata": {
            "tags": []
          },
          "execution_count": 21
        },
        {
          "output_type": "display_data",
          "data": {
            "image/png": "[encoded data removed]",
            "text/plain": [
              "<Figure size 1080x1080 with 2 Axes>"
            ]
          },
          "metadata": {
            "tags": [],
            "needs_background": "light"
          }
        }
      ]
    },
    {
      "cell_type": "markdown",
      "metadata": {
        "id": "WtGKwoaCpeAs"
      },
      "source": [
        "#### ***Set Feature and Target***"
      ]
    },
    {
      "cell_type": "code",
      "metadata": {
        "id": "awfUHmfrph6W",
        "colab": {
          "base_uri": "https://localhost:8080/"
        },
        "outputId": "5e702b8a-467c-4229-c497-618c8bd14837"
      },
      "source": [
        "# Select Features\n",
        "from sklearn import preprocessing\n",
        "X_pp = df.drop(['Outcome','Insulin','DiabetesPedigreeFunction'], axis=1)\n",
        "X = preprocessing.scale(X_pp)\n",
        "scaler = preprocessing.StandardScaler().fit(X_pp)\n",
        "scaler"
      ],
      "execution_count": null,
      "outputs": [
        {
          "output_type": "execute_result",
          "data": {
            "text/plain": [
              "StandardScaler(copy=True, with_mean=True, with_std=True)"
            ]
          },
          "metadata": {
            "tags": []
          },
          "execution_count": 22
        }
      ]
    },
    {
      "cell_type": "code",
      "metadata": {
        "id": "bu1COTYDqVoC",
        "colab": {
          "base_uri": "https://localhost:8080/"
        },
        "outputId": "af8311cc-1266-491a-8d30-486fea2e61ae"
      },
      "source": [
        "# Select Target\n",
        "y = df['Outcome']\n",
        "y"
      ],
      "execution_count": null,
      "outputs": [
        {
          "output_type": "execute_result",
          "data": {
            "text/plain": [
              "0      1\n",
              "1      0\n",
              "2      1\n",
              "3      0\n",
              "4      1\n",
              "      ..\n",
              "763    0\n",
              "764    0\n",
              "765    0\n",
              "766    1\n",
              "767    0\n",
              "Name: Outcome, Length: 768, dtype: int64"
            ]
          },
          "metadata": {
            "tags": []
          },
          "execution_count": 23
        }
      ]
    },
    {
      "cell_type": "markdown",
      "metadata": {
        "id": "jKGonYC7qhGA"
      },
      "source": [
        "#### ***Set Training and Testing Data***"
      ]
    },
    {
      "cell_type": "code",
      "metadata": {
        "id": "td_W4NOBqpCI",
        "colab": {
          "base_uri": "https://localhost:8080/"
        },
        "outputId": "abe012b3-cdf4-425a-da3a-f14d0a2b4749"
      },
      "source": [
        "# Set Training and Testing Data (70:30)\n",
        "from sklearn.model_selection import train_test_split, cross_val_score\n",
        "X_train, X_test, y_train, y_test  = train_test_split(X, y, shuffle = True, test_size=0.2, random_state=0,stratify=y)\n",
        "\n",
        "# Show the Training and Testing Data\n",
        "print(X_train.shape)\n",
        "print(X_test.shape)\n",
        "print(y_train.shape)\n",
        "print(y_test.shape)"
      ],
      "execution_count": null,
      "outputs": [
        {
          "output_type": "stream",
          "text": [
            "(614, 6)\n",
            "(154, 6)\n",
            "(614,)\n",
            "(154,)\n"
          ],
          "name": "stdout"
        }
      ]
    },
    {
      "cell_type": "markdown",
      "metadata": {
        "id": "RPbwMghV6K_x"
      },
      "source": [
        "# **Model**"
      ]
    },
    {
      "cell_type": "markdown",
      "metadata": {
        "id": "baHMGOUbS-76"
      },
      "source": [
        "#### ***GridSearchCV (Random Forest)***"
      ]
    },
    {
      "cell_type": "code",
      "metadata": {
        "id": "VSWLmIB1TIqH",
        "colab": {
          "base_uri": "https://localhost:8080/"
        },
        "outputId": "0ebb7ff5-3c96-4128-bd6f-7e8d1e0790f5"
      },
      "source": [
        "from sklearn.model_selection import RandomizedSearchCV\n",
        "\n",
        "n_estimators = [100, 300, 400, 500, 800, 1200]\n",
        "max_depth = [5, 8, 15, 25, 30]\n",
        "min_samples_split = [2, 5, 10, 15, 100]\n",
        "min_samples_leaf = [1, 2, 5, 10]\n",
        "\n",
        "hyperF = dict(n_estimators = n_estimators, max_depth = max_depth, \n",
        "              min_samples_split = min_samples_split, \n",
        "              min_samples_leaf = min_samples_leaf)\n",
        "\n",
        "gridF = GridSearchCV(rfo, hyperF, scoring='roc_auc',\n",
        "                     cv = 5, verbose = 1, \n",
        "                     n_jobs = -1)\n",
        "\n",
        "bestF = gridF.fit(X, y)"
      ],
      "execution_count": null,
      "outputs": [
        {
          "output_type": "stream",
          "text": [
            "Fitting 5 folds for each of 600 candidates, totalling 3000 fits\n"
          ],
          "name": "stdout"
        },
        {
          "output_type": "stream",
          "text": [
            "[Parallel(n_jobs=-1)]: Using backend LokyBackend with 2 concurrent workers.\n",
            "[Parallel(n_jobs=-1)]: Done  46 tasks      | elapsed:   28.3s\n",
            "[Parallel(n_jobs=-1)]: Done 196 tasks      | elapsed:  2.2min\n",
            "[Parallel(n_jobs=-1)]: Done 446 tasks      | elapsed:  5.1min\n",
            "[Parallel(n_jobs=-1)]: Done 796 tasks      | elapsed:  9.1min\n",
            "[Parallel(n_jobs=-1)]: Done 1246 tasks      | elapsed: 14.1min\n",
            "[Parallel(n_jobs=-1)]: Done 1796 tasks      | elapsed: 20.1min\n",
            "[Parallel(n_jobs=-1)]: Done 2446 tasks      | elapsed: 27.2min\n",
            "[Parallel(n_jobs=-1)]: Done 3000 out of 3000 | elapsed: 33.3min finished\n"
          ],
          "name": "stderr"
        }
      ]
    },
    {
      "cell_type": "code",
      "metadata": {
        "id": "LLJz5bfNUTQf",
        "colab": {
          "base_uri": "https://localhost:8080/"
        },
        "outputId": "4f739aa4-6136-443c-d7ef-dcd8b94413a8"
      },
      "source": [
        "print(\" Results from Grid Search \" )\r\n",
        "print(\"\\n The best estimator across ALL searched params:\\n\",bestF.best_estimator_)\r\n",
        "print(\"\\n The best score across ALL searched params:\\n\",bestF.best_score_)\r\n",
        "print(\"\\n The best parameters across ALL searched params:\\n\",bestF.best_params_)"
      ],
      "execution_count": null,
      "outputs": [
        {
          "output_type": "stream",
          "text": [
            " Results from Grid Search \n",
            "\n",
            " The best estimator across ALL searched params:\n",
            " RandomForestClassifier(bootstrap=True, ccp_alpha=0.0, class_weight=None,\n",
            "                       criterion='gini', max_depth=15, max_features='auto',\n",
            "                       max_leaf_nodes=None, max_samples=None,\n",
            "                       min_impurity_decrease=0.0, min_impurity_split=None,\n",
            "                       min_samples_leaf=5, min_samples_split=15,\n",
            "                       min_weight_fraction_leaf=0.0, n_estimators=100,\n",
            "                       n_jobs=None, oob_score=False, random_state=32, verbose=0,\n",
            "                       warm_start=False)\n",
            "\n",
            " The best score across ALL searched params:\n",
            " 0.8896834381551363\n",
            "\n",
            " The best parameters across ALL searched params:\n",
            " {'max_depth': 15, 'min_samples_leaf': 5, 'min_samples_split': 15, 'n_estimators': 100}\n"
          ],
          "name": "stdout"
        }
      ]
    },
    {
      "cell_type": "markdown",
      "metadata": {
        "id": "bfb7uc3EQJ9k"
      },
      "source": [
        "#### ***GridSearchCV (KNN)***"
      ]
    },
    {
      "cell_type": "code",
      "metadata": {
        "colab": {
          "base_uri": "https://localhost:8080/"
        },
        "id": "x-lwqxspOJDp",
        "outputId": "e9eee973-5fdf-46f0-bb9c-eece472eb8eb"
      },
      "source": [
        "from sklearn.model_selection import RandomizedSearchCV\n",
        "\n",
        "leaf_size = list(range(1,50))\n",
        "n_neighbors = list(range(1,30))\n",
        "p=[1,2]\n",
        "\n",
        "hyperK = dict(leaf_size=leaf_size, n_neighbors=n_neighbors, p=p)\n",
        "\n",
        "gridK = GridSearchCV(knn, hyperK, scoring='roc_auc', \n",
        "                     cv = 5, verbose = 1, \n",
        "                     n_jobs = -1,)\n",
        "\n",
        "bestK = gridK.fit(X_train, y_train)"
      ],
      "execution_count": null,
      "outputs": [
        {
          "output_type": "stream",
          "text": [
            "Fitting 5 folds for each of 2842 candidates, totalling 14210 fits\n"
          ],
          "name": "stdout"
        },
        {
          "output_type": "stream",
          "text": [
            "[Parallel(n_jobs=-1)]: Using backend LokyBackend with 2 concurrent workers.\n",
            "[Parallel(n_jobs=-1)]: Done 584 tasks      | elapsed:    2.5s\n",
            "[Parallel(n_jobs=-1)]: Done 5384 tasks      | elapsed:   14.0s\n",
            "[Parallel(n_jobs=-1)]: Done 13384 tasks      | elapsed:   32.4s\n",
            "[Parallel(n_jobs=-1)]: Done 14210 out of 14210 | elapsed:   34.3s finished\n"
          ],
          "name": "stderr"
        }
      ]
    },
    {
      "cell_type": "code",
      "metadata": {
        "id": "ydhBSY_ndzVS",
        "colab": {
          "base_uri": "https://localhost:8080/"
        },
        "outputId": "d608c4a2-05f6-448b-b2c0-2ce11fea21fc"
      },
      "source": [
        "print(\" Results from Grid Search \" )\n",
        "print(\"\\n The best estimator across ALL searched params:\\n\",bestK.best_estimator_)\n",
        "print(\"\\n The best score across ALL searched params:\\n\",bestK.best_score_)\n",
        "print(\"\\n The best parameters across ALL searched params:\\n\",bestK.best_params_)"
      ],
      "execution_count": null,
      "outputs": [
        {
          "output_type": "stream",
          "text": [
            " Results from Grid Search \n",
            "\n",
            " The best estimator across ALL searched params:\n",
            " KNeighborsClassifier(algorithm='auto', leaf_size=1, metric='minkowski',\n",
            "                     metric_params=None, n_jobs=None, n_neighbors=8, p=1,\n",
            "                     weights='uniform')\n",
            "\n",
            " The best score across ALL searched params:\n",
            " 0.7568189368770764\n",
            "\n",
            " The best parameters across ALL searched params:\n",
            " {'leaf_size': 1, 'n_neighbors': 8, 'p': 1}\n"
          ],
          "name": "stdout"
        }
      ]
    },
    {
      "cell_type": "markdown",
      "metadata": {
        "id": "XBpuFXsXxoOW"
      },
      "source": [
        "#### ***Decision Tree***"
      ]
    },
    {
      "cell_type": "markdown",
      "metadata": {
        "id": "f5EO9O_z2qKC"
      },
      "source": [
        "**Modeling Decision Tree**"
      ]
    },
    {
      "cell_type": "code",
      "metadata": {
        "id": "cZNasJBK_93L"
      },
      "source": [
        "# Import Module\n",
        "from sklearn import tree\n",
        "\n",
        "# Modeling Decision Tree\n",
        "dtc = tree.DecisionTreeClassifier(min_impurity_decrease=0.01)\n",
        "dtc.fit(X_train, y_train)\n",
        "\n",
        "# Predict to Test Data \n",
        "y_pred_dtc = dtc.predict(X_test)"
      ],
      "execution_count": null,
      "outputs": []
    },
    {
      "cell_type": "markdown",
      "metadata": {
        "id": "-hQJbLAV2uGm"
      },
      "source": [
        "**Model Evaluation**"
      ]
    },
    {
      "cell_type": "code",
      "metadata": {
        "id": "sYNobAynxOYC",
        "colab": {
          "base_uri": "https://localhost:8080/"
        },
        "outputId": "067455b7-6f3a-4e89-961c-fa8e4453ffa4"
      },
      "source": [
        "# Import Module\n",
        "from sklearn import metrics\n",
        "\n",
        "# Show the Confussion Matrix\n",
        "cm_dtc = metrics.confusion_matrix(y_test, y_pred_dtc)\n",
        "cm_dtc"
      ],
      "execution_count": null,
      "outputs": [
        {
          "output_type": "execute_result",
          "data": {
            "text/plain": [
              "array([[78, 22],\n",
              "       [28, 26]])"
            ]
          },
          "metadata": {
            "tags": []
          },
          "execution_count": 179
        }
      ]
    },
    {
      "cell_type": "code",
      "metadata": {
        "id": "XzC3woEkaFhz",
        "colab": {
          "base_uri": "https://localhost:8080/"
        },
        "outputId": "991e4a1a-2b54-4c22-cf9a-fca3269654e3"
      },
      "source": [
        "# Show the Accuracy, Precision, Recall\n",
        "acc_dtc = metrics.accuracy_score(y_test, y_pred_dtc)\n",
        "prec_dtc = metrics.precision_score(y_test, y_pred_dtc)\n",
        "rec_dtc = metrics.recall_score(y_test, y_pred_dtc)\n",
        "f1_dtc = metrics.f1_score(y_test, y_pred_dtc)\n",
        "kappa_dtc = metrics.cohen_kappa_score(y_test, y_pred_dtc)\n",
        "\n",
        "print(\"Accuracy:\", acc_dtc)\n",
        "print(\"Precision:\", prec_dtc)\n",
        "print(\"Recall:\", rec_dtc)\n",
        "print(\"F1 Score:\", f1_dtc)\n",
        "print(\"Cohens Kappa Score:\", kappa_dtc)"
      ],
      "execution_count": null,
      "outputs": [
        {
          "output_type": "stream",
          "text": [
            "Accuracy: 0.6753246753246753\n",
            "Precision: 0.5416666666666666\n",
            "Recall: 0.48148148148148145\n",
            "F1 Score: 0.5098039215686274\n",
            "Cohens Kappa Score: 0.2683390345876092\n"
          ],
          "name": "stdout"
        }
      ]
    },
    {
      "cell_type": "code",
      "metadata": {
        "id": "RhkuuaY4d2Wb",
        "colab": {
          "base_uri": "https://localhost:8080/",
          "height": 626
        },
        "outputId": "7716849c-3f26-435c-cd6d-8753ac8ed147"
      },
      "source": [
        "# Import Visualization Package\n",
        "import matplotlib.pyplot as plt\n",
        "import warnings\n",
        "warnings.filterwarnings('ignore')\n",
        "\n",
        "# Set Size and Style\n",
        "plt.rcParams['figure.figsize'] = (10, 10)\n",
        "plt.style.use('ggplot')\n",
        "\n",
        "# Visualize ROC Curve\n",
        "y_pred_dtc_proba = dtc.predict_proba(X_test)[::,1]\n",
        "fprdtc, tprdtc, _ = metrics.roc_curve(y_test,  y_pred_dtc_proba)\n",
        "aucdtc = metrics.roc_auc_score(y_test, y_pred_dtc_proba)\n",
        "plt.plot(fprdtc,tprdtc,label=\"Decision Tree, auc=\"+str(aucdtc))\n",
        "plt.title('ROC Curve - Decision Tree')\n",
        "plt.xlabel('false positive rate') \n",
        "plt.ylabel('true positive rate')\n",
        "plt.legend(loc=4)\n",
        "plt.show()"
      ],
      "execution_count": null,
      "outputs": [
        {
          "output_type": "display_data",
          "data": {
            "image/png": "[encoded data removed]",
            "text/plain": [
              "<Figure size 720x720 with 1 Axes>"
            ]
          },
          "metadata": {
            "tags": []
          }
        }
      ]
    },
    {
      "cell_type": "markdown",
      "metadata": {
        "id": "nOtGq06Yx5m-"
      },
      "source": [
        "#### ***Naive Bayes***"
      ]
    },
    {
      "cell_type": "markdown",
      "metadata": {
        "id": "MSjixvtW3BCT"
      },
      "source": [
        "**Modeling Naive Bayes**"
      ]
    },
    {
      "cell_type": "code",
      "metadata": {
        "id": "dhyV9oiBxYaR"
      },
      "source": [
        "# Import Module\n",
        "from sklearn.naive_bayes import GaussianNB \n",
        "\n",
        "# Modeling Naive Bayes Classifier\n",
        "gnb = GaussianNB()\n",
        "gnb.fit(X_train, y_train)\n",
        "\n",
        "# Predict to Test Data\n",
        "y_pred_gnb= gnb.predict(X_test)"
      ],
      "execution_count": null,
      "outputs": []
    },
    {
      "cell_type": "markdown",
      "metadata": {
        "id": "aIj46eRf2-X2"
      },
      "source": [
        "**Model Evaluation**"
      ]
    },
    {
      "cell_type": "code",
      "metadata": {
        "id": "x5hK9_mKxaGy",
        "colab": {
          "base_uri": "https://localhost:8080/"
        },
        "outputId": "ee9f5b09-4225-4cbb-be14-1af71dfc4124"
      },
      "source": [
        "# Show the Confussion Matrix\n",
        "cm_gnb = metrics.confusion_matrix(y_test, y_pred_gnb)\n",
        "cm_gnb"
      ],
      "execution_count": null,
      "outputs": [
        {
          "output_type": "execute_result",
          "data": {
            "text/plain": [
              "array([[87, 13],\n",
              "       [35, 19]])"
            ]
          },
          "metadata": {
            "tags": []
          },
          "execution_count": 215
        }
      ]
    },
    {
      "cell_type": "code",
      "metadata": {
        "id": "ZUBWww1Wxb8E",
        "colab": {
          "base_uri": "https://localhost:8080/"
        },
        "outputId": "87233005-539e-4d94-b051-60367a82f9dd"
      },
      "source": [
        "# Show the Accuracy, Precision, Recall\n",
        "acc_gnb = metrics.accuracy_score(y_test, y_pred_gnb)\n",
        "prec_gnb = metrics.precision_score(y_test, y_pred_gnb)\n",
        "rec_gnb = metrics.recall_score(y_test, y_pred_gnb)\n",
        "f1_gnb = metrics.f1_score(y_test, y_pred_gnb)\n",
        "kappa_gnb = metrics.cohen_kappa_score(y_test, y_pred_gnb)\n",
        "\n",
        "print(\"Accuracy:\", acc_gnb)\n",
        "print(\"Precision:\", prec_gnb)\n",
        "print(\"Recall:\", rec_gnb)\n",
        "print(\"F1 Score:\", f1_gnb)\n",
        "print(\"Cohens Kappa Score:\", kappa_gnb)"
      ],
      "execution_count": null,
      "outputs": [
        {
          "output_type": "stream",
          "text": [
            "Accuracy: 0.6883116883116883\n",
            "Precision: 0.59375\n",
            "Recall: 0.35185185185185186\n",
            "F1 Score: 0.4418604651162791\n",
            "Cohens Kappa Score: 0.24478953821005311\n"
          ],
          "name": "stdout"
        }
      ]
    },
    {
      "cell_type": "code",
      "metadata": {
        "id": "QvjEOHVoeaKY",
        "colab": {
          "base_uri": "https://localhost:8080/",
          "height": 626
        },
        "outputId": "1d2289b3-b64b-4f5e-a683-0dd916ba9dda"
      },
      "source": [
        "# ROC Curve\n",
        "y_pred_gnb_proba = gnb.predict_proba(X_test)[::,1]\n",
        "fprgnb, tprgnb, _ = metrics.roc_curve(y_test,  y_pred_gnb_proba)\n",
        "aucgnb = metrics.roc_auc_score(y_test, y_pred_gnb_proba)\n",
        "plt.plot(fprgnb,tprgnb,label=\"Naive Bayes, auc=\"+str(aucgnb))\n",
        "plt.title('ROC Curve - Naive Bayes')\n",
        "plt.xlabel('false positive rate') \n",
        "plt.ylabel('true positive rate')\n",
        "plt.legend(loc=4)\n",
        "plt.show()"
      ],
      "execution_count": null,
      "outputs": [
        {
          "output_type": "display_data",
          "data": {
            "image/png": "[encoded data removed]",
            "text/plain": [
              "<Figure size 720x720 with 1 Axes>"
            ]
          },
          "metadata": {
            "tags": []
          }
        }
      ]
    },
    {
      "cell_type": "markdown",
      "metadata": {
        "id": "KS2PyYi8Ld2H"
      },
      "source": [
        "#### ***K-Nearest Neighbor***"
      ]
    },
    {
      "cell_type": "markdown",
      "metadata": {
        "id": "vi5fHuZLgj70"
      },
      "source": [
        "**Modelling K-NN**"
      ]
    },
    {
      "cell_type": "code",
      "metadata": {
        "id": "8B-pBh2JRJLA"
      },
      "source": [
        "from sklearn.neighbors import KNeighborsClassifier\n",
        "\n",
        "# Modeling KNN\n",
        "knn = KNeighborsClassifier(leaf_size = 1,\n",
        "                           n_neighbors = 24,\n",
        "                           p = 1)\n",
        "knn.fit(X_train, y_train)\n",
        "\n",
        "# Predict to Test Data\n",
        "y_pred_knn= knn.predict(X_test)"
      ],
      "execution_count": null,
      "outputs": []
    },
    {
      "cell_type": "markdown",
      "metadata": {
        "id": "bCMz6Ipa8L2o"
      },
      "source": [
        "**Model Evaluation**"
      ]
    },
    {
      "cell_type": "code",
      "metadata": {
        "id": "2IGoKuhTRjSV",
        "colab": {
          "base_uri": "https://localhost:8080/"
        },
        "outputId": "5574206c-cee8-40d4-b32f-79cbac0d8966"
      },
      "source": [
        "# Show the Confussion Matrix\n",
        "cm_knn = metrics.confusion_matrix(y_test, y_pred_knn)\n",
        "cm_knn"
      ],
      "execution_count": null,
      "outputs": [
        {
          "output_type": "execute_result",
          "data": {
            "text/plain": [
              "array([[88, 12],\n",
              "       [32, 22]])"
            ]
          },
          "metadata": {
            "tags": []
          },
          "execution_count": 203
        }
      ]
    },
    {
      "cell_type": "code",
      "metadata": {
        "id": "vGfDkvoyRq24",
        "colab": {
          "base_uri": "https://localhost:8080/"
        },
        "outputId": "9efa8b56-ccd2-4d1b-f31b-dcda4eb6f919"
      },
      "source": [
        "# Show the Accuracy, Precision, Recall\n",
        "acc_knn = metrics.accuracy_score(y_test, y_pred_knn)\n",
        "prec_knn = metrics.precision_score(y_test, y_pred_knn)\n",
        "rec_knn = metrics.recall_score(y_test, y_pred_knn)\n",
        "f1_knn = metrics.f1_score(y_test, y_pred_knn)\n",
        "kappa_knn = metrics.cohen_kappa_score(y_test, y_pred_knn)\n",
        "\n",
        "print(\"Accuracy:\", acc_knn)\n",
        "print(\"Precision:\", prec_knn)\n",
        "print(\"Recall:\", rec_knn)\n",
        "print(\"F1 Score:\", f1_knn)\n",
        "print(\"Cohens Kappa Score:\", kappa_knn)"
      ],
      "execution_count": null,
      "outputs": [
        {
          "output_type": "stream",
          "text": [
            "Accuracy: 0.7142857142857143\n",
            "Precision: 0.6470588235294118\n",
            "Recall: 0.4074074074074074\n",
            "F1 Score: 0.5\n",
            "Cohens Kappa Score: 0.31417004048582986\n"
          ],
          "name": "stdout"
        }
      ]
    },
    {
      "cell_type": "code",
      "metadata": {
        "id": "lIcUWjI8SAA5",
        "colab": {
          "base_uri": "https://localhost:8080/"
        },
        "outputId": "76edb627-8911-46db-9cd6-1f1dc54594fe"
      },
      "source": [
        "# ROC Curve\n",
        "y_pred_knn_proba = knn.predict_proba(X_test)[::,1]\n",
        "fprknn, tprknn, _ = metrics.roc_curve(y_test,  y_pred_knn_proba)\n",
        "aucknn = metrics.roc_auc_score(y_test, y_pred_knn_proba)\n",
        "plt.plot(fprknn,tprknn,label=\"K-Nearest Neighbor, auc=\"+str(aucknn))\n",
        "plt.title('ROC Curve - K-Nearest Neighbor')\n",
        "plt.xlabel('false positive rate') \n",
        "plt.ylabel('true positive rate')\n",
        "plt.legend(loc=4)\n",
        "plt.show()"
      ],
      "execution_count": null,
      "outputs": [
        {
          "output_type": "display_data",
          "data": {
            "image/png": "[encoded data removed]",
            "text/plain": [
              "<Figure size 720x720 with 1 Axes>"
            ]
          },
          "metadata": {
            "tags": []
          }
        }
      ]
    },
    {
      "cell_type": "markdown",
      "metadata": {
        "id": "CZjKU3fwnuyH"
      },
      "source": [
        "#### ***Random Forest***"
      ]
    },
    {
      "cell_type": "code",
      "metadata": {
        "id": "G2wi4bsQnyfq"
      },
      "source": [
        "from sklearn.metrics import accuracy_score,recall_score\r\n",
        "from sklearn.ensemble import RandomForestClassifier"
      ],
      "execution_count": null,
      "outputs": []
    },
    {
      "cell_type": "code",
      "metadata": {
        "id": "BPlAGteUATlQ",
        "colab": {
          "base_uri": "https://localhost:8080/"
        },
        "outputId": "0d329cbd-ade0-41a5-b54f-07d66454a52c"
      },
      "source": [
        "accuracy_scores = []\n",
        "recall_scores = []\n",
        "\n",
        "for i in range(0, 300):\n",
        "    rfo = RandomForestClassifier(max_depth= 15, min_samples_leaf= 5, \n",
        "                                min_samples_split= 15, n_estimators= 100,random_state=i)\n",
        "    rfo.fit(X_train, y_train)\n",
        "    accuracy_scores.append(accuracy_score(y_test, rfo.predict(X_test)))\n",
        "    recall_scores.append(recall_score(y_test, rfo.predict(X_test)))\n",
        "\n",
        "print(max(accuracy_scores))\n",
        "print(\"Best random i accuracy =\",accuracy_scores.index(max(accuracy_scores)))\n",
        "print(max(recall_scores))\n",
        "print(\"Best random i recall =\",recall_scores.index(max(recall_scores)))"
      ],
      "execution_count": null,
      "outputs": [
        {
          "output_type": "stream",
          "text": [
            "0.8571428571428571\n",
            "Best random i accuracy = 260\n",
            "0.6851851851851852\n",
            "Best random i recall = 27\n"
          ],
          "name": "stdout"
        }
      ]
    },
    {
      "cell_type": "code",
      "metadata": {
        "id": "NJRPDRtd444h"
      },
      "source": [
        "# Modeling Random Forest\n",
        "rfo = RandomForestClassifier(max_depth= 15, min_samples_leaf= 5, \n",
        "                             min_samples_split= 15, n_estimators= 100,random_state=260) #or 46\n",
        "rfo.fit(X_train, y_train)\n",
        "\n",
        "# Predict to Test Data\n",
        "y_pred_rfo= rfo.predict(X_test)"
      ],
      "execution_count": null,
      "outputs": []
    },
    {
      "cell_type": "code",
      "metadata": {
        "id": "tfB2RoiO84mm",
        "colab": {
          "base_uri": "https://localhost:8080/"
        },
        "outputId": "62c7cadf-82f9-4732-9787-8ddbf051edc8"
      },
      "source": [
        "# Show the Confussion Matrix\n",
        "cm_rfo = metrics.confusion_matrix(y_test, y_pred_rfo)\n",
        "cm_rfo"
      ],
      "execution_count": null,
      "outputs": [
        {
          "output_type": "execute_result",
          "data": {
            "text/plain": [
              "array([[96,  4],\n",
              "       [18, 36]])"
            ]
          },
          "metadata": {
            "tags": []
          },
          "execution_count": 45
        }
      ]
    },
    {
      "cell_type": "code",
      "metadata": {
        "id": "IqNKYC9Z9BVV",
        "colab": {
          "base_uri": "https://localhost:8080/"
        },
        "outputId": "afcd5d9d-a92d-4644-cf62-2c1efd07dbdf"
      },
      "source": [
        "# Show the Accuracy, Precision, Recall\n",
        "acc_rfo = metrics.accuracy_score(y_test, y_pred_rfo)\n",
        "prec_rfo = metrics.precision_score(y_test, y_pred_rfo)\n",
        "rec_rfo = metrics.recall_score(y_test, y_pred_rfo)\n",
        "f1_rfo = metrics.f1_score(y_test, y_pred_rfo)\n",
        "kappa_rfo = metrics.cohen_kappa_score(y_test, y_pred_rfo)\n",
        "\n",
        "print(\"Accuracy:\", acc_rfo)\n",
        "print(\"Precision:\", prec_rfo)\n",
        "print(\"Recall:\", rec_rfo)\n",
        "print(\"F1 Score:\", f1_rfo)\n",
        "print(\"Cohens Kappa Score:\", kappa_rfo)"
      ],
      "execution_count": null,
      "outputs": [
        {
          "output_type": "stream",
          "text": [
            "Accuracy: 0.8571428571428571\n",
            "Precision: 0.9\n",
            "Recall: 0.6666666666666666\n",
            "F1 Score: 0.7659574468085106\n",
            "Cohens Kappa Score: 0.6664040961008271\n"
          ],
          "name": "stdout"
        }
      ]
    },
    {
      "cell_type": "code",
      "metadata": {
        "id": "xjbfpiV3AtCT",
        "colab": {
          "base_uri": "https://localhost:8080/",
          "height": 295
        },
        "outputId": "9b1a1d35-802e-4613-c4d6-9d0fec837da2"
      },
      "source": [
        "y_pred_rfo_proba = rfo.predict_proba(X_test)[::,1]\n",
        "fprrfo, tprrfo, _ = metrics.roc_curve(y_test,  y_pred_rfo_proba)\n",
        "aucrfo = metrics.roc_auc_score(y_test, y_pred_rfo_proba)\n",
        "plt.plot(fprrfo,tprrfo,label=\"Random Forest, auc=\"+str(aucrfo))\n",
        "plt.title('ROC Curve - Random Forest')\n",
        "plt.xlabel('false positive rate')\n",
        "plt.ylabel('true positive rate')\n",
        "plt.legend(loc=4)\n",
        "plt.show()"
      ],
      "execution_count": null,
      "outputs": [
        {
          "output_type": "display_data",
          "data": {
            "image/png": "[encoded data removed]",
            "text/plain": [
              "<Figure size 432x288 with 1 Axes>"
            ]
          },
          "metadata": {
            "tags": [],
            "needs_background": "light"
          }
        }
      ]
    },
    {
      "cell_type": "markdown",
      "metadata": {
        "id": "smDzk-Kox9Hg"
      },
      "source": [
        "#### ***Model Comparison***"
      ]
    },
    {
      "cell_type": "code",
      "metadata": {
        "id": "1Mbup_VsxfE3",
        "colab": {
          "base_uri": "https://localhost:8080/"
        },
        "outputId": "972b0740-3a55-4de9-c9f1-f6148006917d"
      },
      "source": [
        "# Comparing Model Performance\n",
        "print(\"Decision Tree Accuracy = {0:.2f}%\".format(acc_dtc*100))\n",
        "print(\"Decision Tree Precision = {0:.2f}%\".format(prec_dtc*100))\n",
        "print(\"Decision Tree Recall = {0:.2f}%\".format(rec_dtc*100))\n",
        "print(\"Decision Tree F1-Score = {0:.2f}%\".format(f1_dtc*100))\n",
        "print(\"_______________________\")\n",
        "print(\"Naive Bayes Accuracy = {0:.2f}%\".format(acc_gnb*100))\n",
        "print(\"Naive Bayes Precision = {0:.2f}%\".format(prec_gnb*100))\n",
        "print(\"Naive Bayes Recall = {0:.2f}%\".format(rec_gnb*100))\n",
        "print(\"Naive Bayes F1-Score = {0:.2f}%\".format(f1_gnb*100))\n",
        "print(\"_______________________\")\n",
        "print(\"K-Nearest Neighbor Accuracy = {0:.2f}%\".format(acc_knn*100))\n",
        "print(\"K-Nearest Neighbor Precision = {0:.2f}%\".format(prec_knn*100))\n",
        "print(\"K-Nearest Neighbor Recall = {0:.2f}%\".format(rec_knn*100))\n",
        "print(\"K-Nearest Neighbor F1-Score = {0:.2f}%\".format(f1_knn*100))\n",
        "print(\"_______________________\")\n",
        "print(\"Random Forest Accuracy = {0:.2f}%\".format(acc_rfo*100))\n",
        "print(\"Random Forest Precision = {0:.2f}%\".format(prec_rfo*100))\n",
        "print(\"Random Forest Recall = {0:.2f}%\".format(rec_rfo*100))\n",
        "print(\"Random Forest F1-Score = {0:.2f}%\".format(f1_rfo*100))"
      ],
      "execution_count": null,
      "outputs": [
        {
          "output_type": "stream",
          "text": [
            "Decision Tree Accuracy = 75.97%\n",
            "Decision Tree Precision = 63.16%\n",
            "Decision Tree Recall = 51.06%\n",
            "Decision Tree F1-Score = 56.47%\n",
            "_______________________\n",
            "Naive Bayes Accuracy = 79.22%\n",
            "Naive Bayes Precision = 67.44%\n",
            "Naive Bayes Recall = 61.70%\n",
            "Naive Bayes F1-Score = 64.44%\n",
            "_______________________\n",
            "K-Nearest Neighbor Accuracy = 79.22%\n",
            "K-Nearest Neighbor Precision = 74.19%\n",
            "K-Nearest Neighbor Recall = 48.94%\n",
            "K-Nearest Neighbor F1-Score = 58.97%\n",
            "_______________________\n",
            "Random Forest Accuracy = 84.42%\n",
            "Random Forest Precision = 79.49%\n",
            "Random Forest Recall = 65.96%\n",
            "Random Forest F1-Score = 72.09%\n"
          ],
          "name": "stdout"
        }
      ]
    },
    {
      "cell_type": "code",
      "metadata": {
        "id": "o3vmPWKqagI6",
        "colab": {
          "base_uri": "https://localhost:8080/",
          "height": 626
        },
        "outputId": "87c38bb1-f72a-451c-a311-d52448b1fc9a"
      },
      "source": [
        "# Comparing ROC Curve\n",
        "plt.plot(fprdtc,tprdtc,label=\"Decision Tree, auc=\"+str(aucdtc))\n",
        "plt.plot(fprgnb,tprgnb,label=\"Naive Bayes, auc=\"+str(aucgnb))\n",
        "plt.plot(fprknn,tprknn,label=\"K-Nearest Neighbor, auc=\"+str(aucknn))\n",
        "plt.plot(fprrfo,tprrfo,label=\"Random Forest, auc=\"+str(aucrfo))\n",
        "plt.title('ROC Curve')\n",
        "plt.xlabel('False Positive Rate')\n",
        "plt.ylabel('True Positive Rate')\n",
        "plt.legend(loc=4)\n",
        "plt.show()"
      ],
      "execution_count": null,
      "outputs": [
        {
          "output_type": "display_data",
          "data": {
            "image/png": "[encoded data removed]",
            "text/plain": [
              "<Figure size 720x720 with 1 Axes>"
            ]
          },
          "metadata": {
            "tags": []
          }
        }
      ]
    },
    {
      "cell_type": "code",
      "metadata": {
        "id": "oZCHm7_XSgJL",
        "colab": {
          "base_uri": "https://localhost:8080/"
        },
        "outputId": "363ba0b4-98f7-490b-820f-4bed57aa28f7"
      },
      "source": [
        "#Save Train set"
      ],
      "execution_count": null,
      "outputs": [
        {
          "output_type": "execute_result",
          "data": {
            "text/plain": [
              "RandomForestClassifier(bootstrap=True, ccp_alpha=0.0, class_weight=None,\n",
              "                       criterion='gini', max_depth=8, max_features='auto',\n",
              "                       max_leaf_nodes=None, max_samples=None,\n",
              "                       min_impurity_decrease=0.0, min_impurity_split=None,\n",
              "                       min_samples_leaf=5, min_samples_split=15,\n",
              "                       min_weight_fraction_leaf=0.0, n_estimators=300,\n",
              "                       n_jobs=None, oob_score=False, random_state=5, verbose=0,\n",
              "                       warm_start=False)"
            ]
          },
          "metadata": {
            "tags": []
          },
          "execution_count": 93
        }
      ]
    },
    {
      "cell_type": "code",
      "metadata": {
        "id": "88fAXqk6Q4h5"
      },
      "source": [
        "#Save model\n"
      ],
      "execution_count": null,
      "outputs": []
    },
    {
      "cell_type": "code",
      "metadata": {
        "id": "qWMOika7RYSk"
      },
      "source": [
        "print(\"Random Forest Accuracy = {0:.2f}%\".format(acc_rfo*100))\r\n",
        "print(\"Random Forest Precision = {0:.2f}%\".format(prec_rfo*100))\r\n",
        "print(\"Random Forest Recall = {0:.2f}%\".format(rec_rfo*100))\r\n",
        "print(\"Random Forest F1-Score = {0:.2f}%\".format(f1_rfo*100))"
      ],
      "execution_count": null,
      "outputs": []
    },
    {
      "cell_type": "markdown",
      "metadata": {
        "id": "UsU0oCcA5_Bj"
      },
      "source": [
        "#### ***Kesimpulan***\n",
        "\n",
        "Disini kita bisa melihat, dari 5 model klasifikasi yang dilakukan, model klasifikasi terbaik yang untuk dataset ini pada :\n",
        "\n",
        "* Accuracy, Random Forest = 90.16%,\n",
        "* Precision, Random Forest  = 88.89%,\n",
        "* Recall, Random Forest = 94.12%,\n",
        "* F1-Score, Random Forest = 91.43%,\n",
        "* AUC, Random Forest = 0.939.\n"
      ]
    }
  ]
}